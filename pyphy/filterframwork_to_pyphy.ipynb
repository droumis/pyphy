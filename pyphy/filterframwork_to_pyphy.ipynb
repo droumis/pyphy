{
 "cells": [
  {
   "cell_type": "code",
   "execution_count": 7,
   "metadata": {},
   "outputs": [
    {
     "name": "stdout",
     "output_type": "stream",
     "text": [
      "The autoreload extension is already loaded. To reload it, use:\n",
      "  %reload_ext autoreload\n"
     ]
    }
   ],
   "source": [
    "import tools\n",
    "import loren_frank_data_processing as lfdp\n",
    "import pandas as pd\n",
    "%load_ext autoreload\n",
    "%autoreload 2"
   ]
  },
  {
   "cell_type": "code",
   "execution_count": 2,
   "metadata": {},
   "outputs": [],
   "source": [
    "animal = 'JZ1'\n",
    "filterframework_dir = '/opt/DR_swapdata10/JZ1/filterframework/'"
   ]
  },
  {
   "cell_type": "markdown",
   "metadata": {},
   "source": [
    "# load data from filterframework"
   ]
  },
  {
   "cell_type": "code",
   "execution_count": 13,
   "metadata": {},
   "outputs": [],
   "source": [
    "ntrodeInfo = tools.load_from_filterframework('JZ1', 'ntrodeInfo', filterframework_dir)\n",
    "\n",
    "taskInfo = tools.load_from_filterframework('JZ1', 'taskInfo', filterframework_dir)\n",
    "\n",
    "epoch_keys = list(taskInfo.index)\n",
    "position = tools.load_from_filterframework('JZ1', 'position', filterframework_dir, epoch_keys)"
   ]
  },
  {
   "cell_type": "markdown",
   "metadata": {},
   "source": [
    "# Save to pyphy"
   ]
  },
  {
   "cell_type": "code",
   "execution_count": 14,
   "metadata": {},
   "outputs": [],
   "source": [
    "config_path = '../config.json'"
   ]
  },
  {
   "cell_type": "code",
   "execution_count": 28,
   "metadata": {},
   "outputs": [],
   "source": [
    "tools.save_df_to_pyphy(ntrodeInfo, 'ntrodeInfo', config_path)\n",
    "\n",
    "tools.save_df_to_pyphy(taskInfo, 'taskInfo', config_path)\n",
    "\n",
    "tools.save_df_to_pyphy(position, 'position', config_path)"
   ]
  }
 ],
 "metadata": {
  "kernelspec": {
   "display_name": "Python 3",
   "language": "python",
   "name": "python3"
  },
  "language_info": {
   "codemirror_mode": {
    "name": "ipython",
    "version": 3
   },
   "file_extension": ".py",
   "mimetype": "text/x-python",
   "name": "python",
   "nbconvert_exporter": "python",
   "pygments_lexer": "ipython3",
   "version": "3.6.5"
  }
 },
 "nbformat": 4,
 "nbformat_minor": 2
}
