{
 "cells": [
  {
   "cell_type": "markdown",
   "metadata": {},
   "source": [
    "# Examples of updating info in config.json\n",
    "\n",
    "# Example:  update the config.json 'day2dates' field with the data files i have locally from the entire experiment"
   ]
  },
  {
   "cell_type": "code",
   "execution_count": 1,
   "metadata": {},
   "outputs": [
    {
     "name": "stderr",
     "output_type": "stream",
     "text": [
      "/home/droumis/anaconda3/envs/Roumis_2018/lib/python3.6/site-packages/h5py/__init__.py:36: FutureWarning: Conversion of the second argument of issubdtype from `float` to `np.floating` is deprecated. In future, it will be treated as `np.float64 == np.dtype(float).type`.\n",
      "  from ._conv import register_converters as _register_converters\n"
     ]
    }
   ],
   "source": [
    "import tools"
   ]
  },
  {
   "cell_type": "code",
   "execution_count": 6,
   "metadata": {},
   "outputs": [],
   "source": [
    "config_path = '/home/droumis/Src/pyphy/config.json'"
   ]
  },
  {
   "cell_type": "code",
   "execution_count": 2,
   "metadata": {},
   "outputs": [],
   "source": [
    "config = tools.read_config(config_path)"
   ]
  },
  {
   "cell_type": "code",
   "execution_count": 28,
   "metadata": {},
   "outputs": [
    {
     "name": "stdout",
     "output_type": "stream",
     "text": [
      "{'1': '20161114', '2': '20161115', '3': '20161116', '4': '20161117', '5': '20161118', '6': '20161119', '7': '20161121', '8': '20161122', '9': '20161125', '10': '20161128', '11': '20161129', '12': '20161130', '13': '20161201', '14': '20161202'}\n"
     ]
    }
   ],
   "source": [
    "import glob\n",
    "local_data_paths = glob.glob('/opt/DR_swapdata10/JZ1/pyphy/*.h5')\n",
    "dates = [dp.split('/')[-1].split('_')[0] for dp in local_data_paths]\n",
    "dates.sort()\n",
    "days2dates = {}\n",
    "for dayp1, dt in enumerate(dates):\n",
    "    days2dates[str(dayp1+1)] = str(dt)\n",
    "print(days2dates)"
   ]
  },
  {
   "cell_type": "code",
   "execution_count": 29,
   "metadata": {},
   "outputs": [],
   "source": [
    "config['JZ1']['day2date'] = days2dates "
   ]
  },
  {
   "cell_type": "code",
   "execution_count": 30,
   "metadata": {},
   "outputs": [],
   "source": [
    "tools.write_config(config, config_path)"
   ]
  },
  {
   "cell_type": "markdown",
   "metadata": {},
   "source": [
    "# Example: adding {'date':{'day':day}} to config"
   ]
  },
  {
   "cell_type": "code",
   "execution_count": 4,
   "metadata": {},
   "outputs": [],
   "source": [
    "for day in config['JZ1']['day2date']:\n",
    "    date = config['JZ1']['day2date'][day]\n",
    "    if date in config['JZ1']:\n",
    "        config['JZ1'][date]['day'] = day\n",
    "    else:\n",
    "        config['JZ1'][date] = {}\n",
    "        config['JZ1'][date]['day'] = day"
   ]
  },
  {
   "cell_type": "code",
   "execution_count": 7,
   "metadata": {},
   "outputs": [],
   "source": [
    "tools.write_config(config, config_path)"
   ]
  },
  {
   "cell_type": "code",
   "execution_count": 8,
   "metadata": {},
   "outputs": [
    {
     "data": {
      "text/plain": [
       "{'JZ1': {'20161114': {'day': '1',\n",
       "   'dropbox': 'https://www.dropbox.com/s/e1n4a1gzv8pbv5c/'},\n",
       "  '20161115': {'day': '2',\n",
       "   'dropbox': 'https://www.dropbox.com/s/c1an971o4s7al09/'},\n",
       "  '20161116': {'day': '3'},\n",
       "  '20161117': {'day': '4'},\n",
       "  '20161118': {'day': '5'},\n",
       "  '20161119': {'day': '6'},\n",
       "  '20161121': {'day': '7'},\n",
       "  '20161122': {'day': '8'},\n",
       "  '20161125': {'day': '9'},\n",
       "  '20161128': {'day': '10'},\n",
       "  '20161129': {'day': '11'},\n",
       "  '20161130': {'day': '12'},\n",
       "  '20161201': {'day': '13'},\n",
       "  '20161202': {'day': '14'},\n",
       "  'day2date': {'1': '20161114',\n",
       "   '10': '20161128',\n",
       "   '11': '20161129',\n",
       "   '12': '20161130',\n",
       "   '13': '20161201',\n",
       "   '14': '20161202',\n",
       "   '2': '20161115',\n",
       "   '3': '20161116',\n",
       "   '4': '20161117',\n",
       "   '5': '20161118',\n",
       "   '6': '20161119',\n",
       "   '7': '20161121',\n",
       "   '8': '20161122',\n",
       "   '9': '20161125'}},\n",
       " 'animals': ['JZ1'],\n",
       " 'data_dir': '/opt/DR_swapdata10/'}"
      ]
     },
     "execution_count": 8,
     "metadata": {},
     "output_type": "execute_result"
    }
   ],
   "source": [
    "tools.read_config(config_path)"
   ]
  },
  {
   "cell_type": "markdown",
   "metadata": {},
   "source": [
    "# Example: adding preprocessing directory to config"
   ]
  },
  {
   "cell_type": "code",
   "execution_count": 9,
   "metadata": {},
   "outputs": [
    {
     "data": {
      "text/plain": [
       "{'JZ1': {'20161114': {'day': '1',\n",
       "   'dropbox': 'https://www.dropbox.com/s/e1n4a1gzv8pbv5c/'},\n",
       "  '20161115': {'day': '2',\n",
       "   'dropbox': 'https://www.dropbox.com/s/c1an971o4s7al09/'},\n",
       "  '20161116': {'day': '3'},\n",
       "  '20161117': {'day': '4'},\n",
       "  '20161118': {'day': '5'},\n",
       "  '20161119': {'day': '6'},\n",
       "  '20161121': {'day': '7'},\n",
       "  '20161122': {'day': '8'},\n",
       "  '20161125': {'day': '9'},\n",
       "  '20161128': {'day': '10'},\n",
       "  '20161129': {'day': '11'},\n",
       "  '20161130': {'day': '12'},\n",
       "  '20161201': {'day': '13'},\n",
       "  '20161202': {'day': '14'},\n",
       "  'day2date': {'1': '20161114',\n",
       "   '10': '20161128',\n",
       "   '11': '20161129',\n",
       "   '12': '20161130',\n",
       "   '13': '20161201',\n",
       "   '14': '20161202',\n",
       "   '2': '20161115',\n",
       "   '3': '20161116',\n",
       "   '4': '20161117',\n",
       "   '5': '20161118',\n",
       "   '6': '20161119',\n",
       "   '7': '20161121',\n",
       "   '8': '20161122',\n",
       "   '9': '20161125'}},\n",
       " 'animals': ['JZ1'],\n",
       " 'data_dir': '/opt/DR_swapdata10/'}"
      ]
     },
     "execution_count": 9,
     "metadata": {},
     "output_type": "execute_result"
    }
   ],
   "source": [
    "config['animal']"
   ]
  },
  {
   "cell_type": "code",
   "execution_count": null,
   "metadata": {},
   "outputs": [],
   "source": [
    "config\n",
    "dropbox_local: \"/opt/vortex2/lorenlab/Dropbox/EastWestSideHippos\\ Team\\ Folder/FrankLabData/droumisData/JZ1/\"\n",
    "filterframework: \"/opt/DR_swapdata10/JZ1/filterframework/\"\n",
    "pyphy: \"/opt/DR_swapdata10/JZ1/pyphy\"\n",
    "mountainlab_output: \"/opt/DR_swapdata10/JZ1/mountainlab_output\"\n",
    "preprocessing: \"/opt/DR_swapdata8/JZ1/preprocessing/\"\n",
    "raw: \"/opt/vortex2/demetris/JZ1/raw/\""
   ]
  }
 ],
 "metadata": {
  "kernelspec": {
   "display_name": "Python 3",
   "language": "python",
   "name": "python3"
  },
  "language_info": {
   "codemirror_mode": {
    "name": "ipython",
    "version": 3
   },
   "file_extension": ".py",
   "mimetype": "text/x-python",
   "name": "python",
   "nbconvert_exporter": "python",
   "pygments_lexer": "ipython3",
   "version": "3.6.5"
  }
 },
 "nbformat": 4,
 "nbformat_minor": 2
}
