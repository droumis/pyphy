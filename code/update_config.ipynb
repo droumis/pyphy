{
 "cells": [
  {
   "cell_type": "markdown",
   "metadata": {},
   "source": [
    "# Example of updating info in config.json\n",
    "\n",
    "#### task:  update the config.json 'day2dates' field with the data files i have locally from the entire experiment"
   ]
  },
  {
   "cell_type": "code",
   "execution_count": 22,
   "metadata": {},
   "outputs": [],
   "source": [
    "import tools"
   ]
  },
  {
   "cell_type": "code",
   "execution_count": 26,
   "metadata": {},
   "outputs": [],
   "source": [
    "config_path = '/home/droumis/Src/pyphy/config.json'\n",
    "config = tools.read_config(config_path)"
   ]
  },
  {
   "cell_type": "markdown",
   "metadata": {},
   "source": [
    "# config before"
   ]
  },
  {
   "cell_type": "code",
   "execution_count": 27,
   "metadata": {},
   "outputs": [
    {
     "data": {
      "text/plain": [
       "{'JZ1': {'20161114': {'day': 1,\n",
       "   'dropbox': 'https://www.dropbox.com/s/e1n4a1gzv8pbv5c/'},\n",
       "  '20161115': {'day': 2,\n",
       "   'dropbox': 'https://www.dropbox.com/s/c1an971o4s7al09/'},\n",
       "  'day2date': {'1': '20161114', '2': '20161115', '3': '20161116'}},\n",
       " 'animals': ['JZ1'],\n",
       " 'data_dir': '/opt/DR_swapdata10/'}"
      ]
     },
     "execution_count": 27,
     "metadata": {},
     "output_type": "execute_result"
    }
   ],
   "source": [
    "config "
   ]
  },
  {
   "cell_type": "code",
   "execution_count": 28,
   "metadata": {},
   "outputs": [
    {
     "name": "stdout",
     "output_type": "stream",
     "text": [
      "{'1': '20161114', '2': '20161115', '3': '20161116', '4': '20161117', '5': '20161118', '6': '20161119', '7': '20161121', '8': '20161122', '9': '20161125', '10': '20161128', '11': '20161129', '12': '20161130', '13': '20161201', '14': '20161202'}\n"
     ]
    }
   ],
   "source": [
    "import glob\n",
    "local_data_paths = glob.glob('/opt/DR_swapdata10/JZ1/pyphy/*.h5')\n",
    "dates = [dp.split('/')[-1].split('_')[0] for dp in local_data_paths]\n",
    "dates.sort()\n",
    "days2dates = {}\n",
    "for dayp1, dt in enumerate(dates):\n",
    "    days2dates[str(dayp1+1)] = str(dt)\n",
    "print(days2dates)"
   ]
  },
  {
   "cell_type": "code",
   "execution_count": 29,
   "metadata": {},
   "outputs": [],
   "source": [
    "config['JZ1']['day2date'] = days2dates "
   ]
  },
  {
   "cell_type": "code",
   "execution_count": 30,
   "metadata": {},
   "outputs": [],
   "source": [
    "tools.write_config(config, config_path)"
   ]
  },
  {
   "cell_type": "code",
   "execution_count": 31,
   "metadata": {},
   "outputs": [],
   "source": [
    "config = tools.read_config(config_path)"
   ]
  },
  {
   "cell_type": "markdown",
   "metadata": {},
   "source": [
    "# config after"
   ]
  },
  {
   "cell_type": "code",
   "execution_count": 32,
   "metadata": {},
   "outputs": [
    {
     "data": {
      "text/plain": [
       "{'JZ1': {'20161114': {'day': 1,\n",
       "   'dropbox': 'https://www.dropbox.com/s/e1n4a1gzv8pbv5c/'},\n",
       "  '20161115': {'day': 2,\n",
       "   'dropbox': 'https://www.dropbox.com/s/c1an971o4s7al09/'},\n",
       "  'day2date': {'1': '20161114',\n",
       "   '10': '20161128',\n",
       "   '11': '20161129',\n",
       "   '12': '20161130',\n",
       "   '13': '20161201',\n",
       "   '14': '20161202',\n",
       "   '2': '20161115',\n",
       "   '3': '20161116',\n",
       "   '4': '20161117',\n",
       "   '5': '20161118',\n",
       "   '6': '20161119',\n",
       "   '7': '20161121',\n",
       "   '8': '20161122',\n",
       "   '9': '20161125'}},\n",
       " 'animals': ['JZ1'],\n",
       " 'data_dir': '/opt/DR_swapdata10/'}"
      ]
     },
     "execution_count": 32,
     "metadata": {},
     "output_type": "execute_result"
    }
   ],
   "source": [
    "config"
   ]
  },
  {
   "cell_type": "code",
   "execution_count": null,
   "metadata": {},
   "outputs": [],
   "source": []
  }
 ],
 "metadata": {
  "kernelspec": {
   "display_name": "Python 3",
   "language": "python",
   "name": "python3"
  },
  "language_info": {
   "codemirror_mode": {
    "name": "ipython",
    "version": 3
   },
   "file_extension": ".py",
   "mimetype": "text/x-python",
   "name": "python",
   "nbconvert_exporter": "python",
   "pygments_lexer": "ipython3",
   "version": "3.6.5"
  }
 },
 "nbformat": 4,
 "nbformat_minor": 2
}
