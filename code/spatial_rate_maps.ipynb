{
 "cells": [
  {
   "cell_type": "markdown",
   "metadata": {},
   "source": [
    "# Generate spatial rate maps"
   ]
  },
  {
   "cell_type": "code",
   "execution_count": 189,
   "metadata": {},
   "outputs": [
    {
     "name": "stdout",
     "output_type": "stream",
     "text": [
      "The autoreload extension is already loaded. To reload it, use:\n",
      "  %reload_ext autoreload\n"
     ]
    }
   ],
   "source": [
    "import tools, merging\n",
    "%load_ext autoreload\n",
    "%autoreload 2"
   ]
  },
  {
   "cell_type": "markdown",
   "metadata": {},
   "source": [
    "# Step 1: Get Data"
   ]
  },
  {
   "cell_type": "markdown",
   "metadata": {},
   "source": [
    "### check for available datasets\n",
    "returns {animal:days}"
   ]
  },
  {
   "cell_type": "code",
   "execution_count": 190,
   "metadata": {},
   "outputs": [
    {
     "data": {
      "text/plain": [
       "{'JZ1': [1, 2]}"
      ]
     },
     "execution_count": 190,
     "metadata": {},
     "output_type": "execute_result"
    }
   ],
   "source": [
    "tools.get_data_catalogue()"
   ]
  },
  {
   "cell_type": "markdown",
   "metadata": {},
   "source": [
    "#### download data you want if you haven't already\n",
    "`tools.download_data({animal:days})`"
   ]
  },
  {
   "cell_type": "markdown",
   "metadata": {},
   "source": [
    "### specify datafilters\n",
    "- In this case we want the first two days of animal *JZ1* -  spikes and position for ntrodes in MEC while the animal was on the openfield\n",
    "- any column or index field in ntrodeInfo, taskInfo, or individual datatype dataframes can be used as a datafilter.   \n",
    "*todo: make a notebook showing how to check for, and use, all the different filter options*"
   ]
  },
  {
   "cell_type": "code",
   "execution_count": 184,
   "metadata": {},
   "outputs": [],
   "source": [
    "datafilter = {}\n",
    "datafilter['animals_days'] = {'JZ1':[1,2]}\n",
    "datafilter['datatypes'] = ['position', 'spikes']\n",
    "datafilter['area'] = ['area == [\"mec\"]',]\n",
    "datafilter['environment'] = ['environment == [\"openfield\"]', ]"
   ]
  },
  {
   "cell_type": "code",
   "execution_count": 188,
   "metadata": {},
   "outputs": [
    {
     "name": "stdout",
     "output_type": "stream",
     "text": [
      "[array([ 1,  2,  3,  4,  6,  7,  8,  9, 10, 14])]\n",
      "[1, 2, 3, 4, 6, 7, 8, 9, 10, 14]\n",
      "CPU times: user 14.6 s, sys: 3.72 s, total: 18.3 s\n",
      "Wall time: 18.3 s\n"
     ]
    }
   ],
   "source": [
    "%%time\n",
    "data = tools.load_data(datafilter)"
   ]
  },
  {
   "cell_type": "code",
   "execution_count": 186,
   "metadata": {},
   "outputs": [],
   "source": [
    "position = data['position']\n",
    "spikes = data['spikes']"
   ]
  },
  {
   "cell_type": "code",
   "execution_count": 187,
   "metadata": {},
   "outputs": [
    {
     "data": {
      "text/html": [
       "<div>\n",
       "<style scoped>\n",
       "    .dataframe tbody tr th:only-of-type {\n",
       "        vertical-align: middle;\n",
       "    }\n",
       "\n",
       "    .dataframe tbody tr th {\n",
       "        vertical-align: top;\n",
       "    }\n",
       "\n",
       "    .dataframe thead th {\n",
       "        text-align: right;\n",
       "    }\n",
       "</style>\n",
       "<table border=\"1\" class=\"dataframe\">\n",
       "  <thead>\n",
       "    <tr style=\"text-align: right;\">\n",
       "      <th></th>\n",
       "      <th></th>\n",
       "      <th></th>\n",
       "      <th></th>\n",
       "      <th></th>\n",
       "      <th></th>\n",
       "      <th>head_direction</th>\n",
       "      <th>sampleindex</th>\n",
       "      <th>speed</th>\n",
       "      <th>x_position</th>\n",
       "      <th>y_position</th>\n",
       "    </tr>\n",
       "    <tr>\n",
       "      <th>animal</th>\n",
       "      <th>day</th>\n",
       "      <th>epoch</th>\n",
       "      <th>ntrode</th>\n",
       "      <th>cluster</th>\n",
       "      <th>timedelta</th>\n",
       "      <th></th>\n",
       "      <th></th>\n",
       "      <th></th>\n",
       "      <th></th>\n",
       "      <th></th>\n",
       "    </tr>\n",
       "  </thead>\n",
       "  <tbody>\n",
       "    <tr>\n",
       "      <th rowspan=\"5\" valign=\"top\">JZ1</th>\n",
       "      <th rowspan=\"5\" valign=\"top\">2</th>\n",
       "      <th rowspan=\"5\" valign=\"top\">6</th>\n",
       "      <th rowspan=\"5\" valign=\"top\">14</th>\n",
       "      <th rowspan=\"5\" valign=\"top\">3</th>\n",
       "      <th>02:08:31.946766</th>\n",
       "      <td>0.369047</td>\n",
       "      <td>231358403</td>\n",
       "      <td>0.144268</td>\n",
       "      <td>41.124799</td>\n",
       "      <td>30.014606</td>\n",
       "    </tr>\n",
       "    <tr>\n",
       "      <th>02:08:31.946766</th>\n",
       "      <td>-3.088386</td>\n",
       "      <td>231358403</td>\n",
       "      <td>6.447630</td>\n",
       "      <td>20.025588</td>\n",
       "      <td>17.407434</td>\n",
       "    </tr>\n",
       "    <tr>\n",
       "      <th>02:08:31.946766</th>\n",
       "      <td>0.357465</td>\n",
       "      <td>231358403</td>\n",
       "      <td>0.040945</td>\n",
       "      <td>45.177791</td>\n",
       "      <td>30.222860</td>\n",
       "    </tr>\n",
       "    <tr>\n",
       "      <th>02:08:31.946766</th>\n",
       "      <td>1.104400</td>\n",
       "      <td>231358403</td>\n",
       "      <td>0.005602</td>\n",
       "      <td>42.005817</td>\n",
       "      <td>29.766656</td>\n",
       "    </tr>\n",
       "    <tr>\n",
       "      <th>02:08:31.946766</th>\n",
       "      <td>1.230769</td>\n",
       "      <td>231358403</td>\n",
       "      <td>0.234141</td>\n",
       "      <td>39.791695</td>\n",
       "      <td>29.367276</td>\n",
       "    </tr>\n",
       "  </tbody>\n",
       "</table>\n",
       "</div>"
      ],
      "text/plain": [
       "                                                 head_direction     ...      y_position\n",
       "animal day epoch ntrode cluster timedelta                           ...                \n",
       "JZ1    2   6     14     3       02:08:31.946766        0.369047     ...       30.014606\n",
       "                                02:08:31.946766       -3.088386     ...       17.407434\n",
       "                                02:08:31.946766        0.357465     ...       30.222860\n",
       "                                02:08:31.946766        1.104400     ...       29.766656\n",
       "                                02:08:31.946766        1.230769     ...       29.367276\n",
       "\n",
       "[5 rows x 5 columns]"
      ]
     },
     "execution_count": 187,
     "metadata": {},
     "output_type": "execute_result"
    }
   ],
   "source": [
    "spikes.head()"
   ]
  },
  {
   "cell_type": "code",
   "execution_count": 154,
   "metadata": {},
   "outputs": [
    {
     "data": {
      "text/html": [
       "<div>\n",
       "<style scoped>\n",
       "    .dataframe tbody tr th:only-of-type {\n",
       "        vertical-align: middle;\n",
       "    }\n",
       "\n",
       "    .dataframe tbody tr th {\n",
       "        vertical-align: top;\n",
       "    }\n",
       "\n",
       "    .dataframe thead th {\n",
       "        text-align: right;\n",
       "    }\n",
       "</style>\n",
       "<table border=\"1\" class=\"dataframe\">\n",
       "  <thead>\n",
       "    <tr style=\"text-align: right;\">\n",
       "      <th></th>\n",
       "      <th></th>\n",
       "      <th></th>\n",
       "      <th></th>\n",
       "      <th>time</th>\n",
       "      <th>x_position</th>\n",
       "      <th>y_position</th>\n",
       "      <th>head_direction</th>\n",
       "      <th>speed</th>\n",
       "    </tr>\n",
       "    <tr>\n",
       "      <th>animal</th>\n",
       "      <th>day</th>\n",
       "      <th>epoch</th>\n",
       "      <th>timedelta</th>\n",
       "      <th></th>\n",
       "      <th></th>\n",
       "      <th></th>\n",
       "      <th></th>\n",
       "      <th></th>\n",
       "    </tr>\n",
       "  </thead>\n",
       "  <tbody>\n",
       "    <tr>\n",
       "      <th rowspan=\"5\" valign=\"top\">JZ1</th>\n",
       "      <th rowspan=\"5\" valign=\"top\">2</th>\n",
       "      <th rowspan=\"5\" valign=\"top\">6</th>\n",
       "      <th>02:08:06.844266</th>\n",
       "      <td>02:08:06.844266</td>\n",
       "      <td>29.458240</td>\n",
       "      <td>35.973854</td>\n",
       "      <td>-1.081368</td>\n",
       "      <td>2.303935</td>\n",
       "    </tr>\n",
       "    <tr>\n",
       "      <th>02:08:06.877900</th>\n",
       "      <td>02:08:06.877900</td>\n",
       "      <td>29.660613</td>\n",
       "      <td>35.934537</td>\n",
       "      <td>-1.045542</td>\n",
       "      <td>2.293976</td>\n",
       "    </tr>\n",
       "    <tr>\n",
       "      <th>02:08:06.911500</th>\n",
       "      <td>02:08:06.911500</td>\n",
       "      <td>29.859370</td>\n",
       "      <td>35.910230</td>\n",
       "      <td>-1.006723</td>\n",
       "      <td>2.274177</td>\n",
       "    </tr>\n",
       "    <tr>\n",
       "      <th>02:08:06.945133</th>\n",
       "      <td>02:08:06.945133</td>\n",
       "      <td>30.054318</td>\n",
       "      <td>35.901444</td>\n",
       "      <td>-0.964502</td>\n",
       "      <td>2.244771</td>\n",
       "    </tr>\n",
       "    <tr>\n",
       "      <th>02:08:06.978766</th>\n",
       "      <td>02:08:06.978766</td>\n",
       "      <td>30.244941</td>\n",
       "      <td>35.908462</td>\n",
       "      <td>-0.918608</td>\n",
       "      <td>2.206101</td>\n",
       "    </tr>\n",
       "  </tbody>\n",
       "</table>\n",
       "</div>"
      ],
      "text/plain": [
       "                                            time  x_position    ...     head_direction     speed\n",
       "animal day epoch timedelta                                      ...                             \n",
       "JZ1    2   6     02:08:06.844266 02:08:06.844266   29.458240    ...          -1.081368  2.303935\n",
       "                 02:08:06.877900 02:08:06.877900   29.660613    ...          -1.045542  2.293976\n",
       "                 02:08:06.911500 02:08:06.911500   29.859370    ...          -1.006723  2.274177\n",
       "                 02:08:06.945133 02:08:06.945133   30.054318    ...          -0.964502  2.244771\n",
       "                 02:08:06.978766 02:08:06.978766   30.244941    ...          -0.918608  2.206101\n",
       "\n",
       "[5 rows x 5 columns]"
      ]
     },
     "execution_count": 154,
     "metadata": {},
     "output_type": "execute_result"
    }
   ],
   "source": [
    "position.head()"
   ]
  },
  {
   "cell_type": "markdown",
   "metadata": {},
   "source": [
    "# Step 2: Calculate Spatial Firing"
   ]
  },
  {
   "cell_type": "code",
   "execution_count": 181,
   "metadata": {},
   "outputs": [],
   "source": [
    "import spatial_rate_map as smap"
   ]
  },
  {
   "cell_type": "code",
   "execution_count": 182,
   "metadata": {},
   "outputs": [
    {
     "name": "stdout",
     "output_type": "stream",
     "text": [
      "pos cols found in df, recalculating pos\n"
     ]
    }
   ],
   "source": [
    "occnorm_FR_maps = smap.calc_spatial_firing_rate_maps(spikes, position)"
   ]
  },
  {
   "cell_type": "code",
   "execution_count": 183,
   "metadata": {},
   "outputs": [
    {
     "data": {
      "text/plain": [
       "dict_keys([('JZ1', 2, 6, 14, 3), ('JZ1', 2, 8, 14, 3)])"
      ]
     },
     "execution_count": 183,
     "metadata": {},
     "output_type": "execute_result"
    }
   ],
   "source": [
    "occnorm_FR_maps.keys()"
   ]
  },
  {
   "cell_type": "code",
   "execution_count": 169,
   "metadata": {},
   "outputs": [],
   "source": [
    "        hv_smooth_occupancy[(animal,day,ntrode,cluster,epoch)] = hv.Image(smooth_occupancy)\n",
    "        hv_smooth_spk_map[(animal,day,ntrode,cluster,epoch)] = hv.Image(smooth_spk_map)\n",
    "        hv_occnorm_FR_map[(animal,day,ntrode,cluster,epoch)] = hv.Image(occnorm_FR_map)"
   ]
  },
  {
   "cell_type": "code",
   "execution_count": null,
   "metadata": {},
   "outputs": [],
   "source": [
    "pos_ep.x_position.min()"
   ]
  },
  {
   "cell_type": "code",
   "execution_count": null,
   "metadata": {},
   "outputs": [],
   "source": [
    "\n",
    "\n",
    "\n",
    "\n"
   ]
  },
  {
   "cell_type": "code",
   "execution_count": null,
   "metadata": {},
   "outputs": [],
   "source": []
  },
  {
   "cell_type": "markdown",
   "metadata": {},
   "source": [
    "# Step 3: Plot Results"
   ]
  },
  {
   "cell_type": "code",
   "execution_count": null,
   "metadata": {},
   "outputs": [],
   "source": []
  }
 ],
 "metadata": {
  "kernelspec": {
   "display_name": "Python 3",
   "language": "python",
   "name": "python3"
  },
  "language_info": {
   "codemirror_mode": {
    "name": "ipython",
    "version": 3
   },
   "file_extension": ".py",
   "mimetype": "text/x-python",
   "name": "python",
   "nbconvert_exporter": "python",
   "pygments_lexer": "ipython3",
   "version": "3.6.5"
  }
 },
 "nbformat": 4,
 "nbformat_minor": 2
}
