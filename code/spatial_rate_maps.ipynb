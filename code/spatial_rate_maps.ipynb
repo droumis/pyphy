{
 "cells": [
  {
   "cell_type": "markdown",
   "metadata": {},
   "source": [
    "# Generate spatial rate maps"
   ]
  },
  {
   "cell_type": "code",
   "execution_count": 7,
   "metadata": {},
   "outputs": [],
   "source": [
    "import tools\n",
    "%load_ext autoreload\n",
    "%autoreload 2"
   ]
  },
  {
   "cell_type": "markdown",
   "metadata": {},
   "source": [
    "1. specify the animals and wich days of data you want to work with"
   ]
  },
  {
   "cell_type": "code",
   "execution_count": 123,
   "metadata": {},
   "outputs": [
    {
     "data": {
      "text/plain": [
       "{'JZ1': [1, 2]}"
      ]
     },
     "execution_count": 123,
     "metadata": {},
     "output_type": "execute_result"
    }
   ],
   "source": [
    "tools.get_data_catalogue()"
   ]
  },
  {
   "cell_type": "code",
   "execution_count": 118,
   "metadata": {},
   "outputs": [],
   "source": [
    "datafilter = {}\n",
    "datafilter['animals_days'] = {'JZ1':[]}\n",
    "datafilter['area'] = ['area == [\"mec\"]',]\n",
    "datafilter['environment'] = ['environment == [\"openfield\"]', ]\n",
    "datafilter['datatypes'] = ['position', 'spikes']"
   ]
  },
  {
   "cell_type": "code",
   "execution_count": 120,
   "metadata": {},
   "outputs": [],
   "source": [
    "data = tools.load_data(datafilter)"
   ]
  },
  {
   "cell_type": "code",
   "execution_count": 121,
   "metadata": {},
   "outputs": [
    {
     "data": {
      "text/html": [
       "<div>\n",
       "<style scoped>\n",
       "    .dataframe tbody tr th:only-of-type {\n",
       "        vertical-align: middle;\n",
       "    }\n",
       "\n",
       "    .dataframe tbody tr th {\n",
       "        vertical-align: top;\n",
       "    }\n",
       "\n",
       "    .dataframe thead th {\n",
       "        text-align: right;\n",
       "    }\n",
       "</style>\n",
       "<table border=\"1\" class=\"dataframe\">\n",
       "  <thead>\n",
       "    <tr style=\"text-align: right;\">\n",
       "      <th></th>\n",
       "      <th></th>\n",
       "      <th></th>\n",
       "      <th></th>\n",
       "      <th>time</th>\n",
       "      <th>x_position</th>\n",
       "      <th>y_position</th>\n",
       "      <th>head_direction</th>\n",
       "      <th>speed</th>\n",
       "    </tr>\n",
       "    <tr>\n",
       "      <th>animal</th>\n",
       "      <th>day</th>\n",
       "      <th>epoch</th>\n",
       "      <th>timedelta</th>\n",
       "      <th></th>\n",
       "      <th></th>\n",
       "      <th></th>\n",
       "      <th></th>\n",
       "      <th></th>\n",
       "    </tr>\n",
       "  </thead>\n",
       "  <tbody>\n",
       "    <tr>\n",
       "      <th rowspan=\"5\" valign=\"top\">JZ1</th>\n",
       "      <th rowspan=\"5\" valign=\"top\">2</th>\n",
       "      <th rowspan=\"5\" valign=\"top\">8</th>\n",
       "      <th>03:11:49.520766</th>\n",
       "      <td>03:11:49.520766</td>\n",
       "      <td>28.605485</td>\n",
       "      <td>57.183003</td>\n",
       "      <td>NaN</td>\n",
       "      <td>1.363870</td>\n",
       "    </tr>\n",
       "    <tr>\n",
       "      <th>03:11:49.554366</th>\n",
       "      <td>03:11:49.554366</td>\n",
       "      <td>28.530675</td>\n",
       "      <td>57.241111</td>\n",
       "      <td>NaN</td>\n",
       "      <td>1.383321</td>\n",
       "    </tr>\n",
       "    <tr>\n",
       "      <th>03:11:49.588000</th>\n",
       "      <td>03:11:49.588000</td>\n",
       "      <td>28.452612</td>\n",
       "      <td>57.277361</td>\n",
       "      <td>-2.362472</td>\n",
       "      <td>1.398232</td>\n",
       "    </tr>\n",
       "    <tr>\n",
       "      <th>03:11:49.621633</th>\n",
       "      <td>03:11:49.621633</td>\n",
       "      <td>28.370407</td>\n",
       "      <td>57.294683</td>\n",
       "      <td>-2.368862</td>\n",
       "      <td>1.408329</td>\n",
       "    </tr>\n",
       "    <tr>\n",
       "      <th>03:11:49.655233</th>\n",
       "      <td>03:11:49.655233</td>\n",
       "      <td>28.272478</td>\n",
       "      <td>57.292841</td>\n",
       "      <td>-2.365621</td>\n",
       "      <td>1.413425</td>\n",
       "    </tr>\n",
       "  </tbody>\n",
       "</table>\n",
       "</div>"
      ],
      "text/plain": [
       "                                            time  x_position    ...     head_direction     speed\n",
       "animal day epoch timedelta                                      ...                             \n",
       "JZ1    2   8     03:11:49.520766 03:11:49.520766   28.605485    ...                NaN  1.363870\n",
       "                 03:11:49.554366 03:11:49.554366   28.530675    ...                NaN  1.383321\n",
       "                 03:11:49.588000 03:11:49.588000   28.452612    ...          -2.362472  1.398232\n",
       "                 03:11:49.621633 03:11:49.621633   28.370407    ...          -2.368862  1.408329\n",
       "                 03:11:49.655233 03:11:49.655233   28.272478    ...          -2.365621  1.413425\n",
       "\n",
       "[5 rows x 5 columns]"
      ]
     },
     "execution_count": 121,
     "metadata": {},
     "output_type": "execute_result"
    }
   ],
   "source": [
    "data['position'].tail()"
   ]
  },
  {
   "cell_type": "code",
   "execution_count": 122,
   "metadata": {},
   "outputs": [
    {
     "data": {
      "text/html": [
       "<div>\n",
       "<style scoped>\n",
       "    .dataframe tbody tr th:only-of-type {\n",
       "        vertical-align: middle;\n",
       "    }\n",
       "\n",
       "    .dataframe tbody tr th {\n",
       "        vertical-align: top;\n",
       "    }\n",
       "\n",
       "    .dataframe thead th {\n",
       "        text-align: right;\n",
       "    }\n",
       "</style>\n",
       "<table border=\"1\" class=\"dataframe\">\n",
       "  <thead>\n",
       "    <tr style=\"text-align: right;\">\n",
       "      <th></th>\n",
       "      <th></th>\n",
       "      <th></th>\n",
       "      <th></th>\n",
       "      <th></th>\n",
       "      <th></th>\n",
       "      <th>head_direction</th>\n",
       "      <th>sampleindex</th>\n",
       "      <th>speed</th>\n",
       "      <th>x_position</th>\n",
       "      <th>y_position</th>\n",
       "    </tr>\n",
       "    <tr>\n",
       "      <th>animal</th>\n",
       "      <th>day</th>\n",
       "      <th>epoch</th>\n",
       "      <th>ntrode</th>\n",
       "      <th>cluster</th>\n",
       "      <th>timedelta</th>\n",
       "      <th></th>\n",
       "      <th></th>\n",
       "      <th></th>\n",
       "      <th></th>\n",
       "      <th></th>\n",
       "    </tr>\n",
       "  </thead>\n",
       "  <tbody>\n",
       "    <tr>\n",
       "      <th rowspan=\"5\" valign=\"top\">JZ1</th>\n",
       "      <th rowspan=\"5\" valign=\"top\">2</th>\n",
       "      <th rowspan=\"5\" valign=\"top\">8</th>\n",
       "      <th rowspan=\"5\" valign=\"top\">14</th>\n",
       "      <th rowspan=\"5\" valign=\"top\">3</th>\n",
       "      <th>03:11:42.917133</th>\n",
       "      <td>1.043085</td>\n",
       "      <td>345087514</td>\n",
       "      <td>1.594771</td>\n",
       "      <td>25.861921</td>\n",
       "      <td>56.830633</td>\n",
       "    </tr>\n",
       "    <tr>\n",
       "      <th>03:11:42.917133</th>\n",
       "      <td>0.483812</td>\n",
       "      <td>345087514</td>\n",
       "      <td>0.493685</td>\n",
       "      <td>30.505165</td>\n",
       "      <td>55.911924</td>\n",
       "    </tr>\n",
       "    <tr>\n",
       "      <th>03:11:42.917133</th>\n",
       "      <td>-0.588197</td>\n",
       "      <td>345087514</td>\n",
       "      <td>0.264586</td>\n",
       "      <td>27.602133</td>\n",
       "      <td>54.409397</td>\n",
       "    </tr>\n",
       "    <tr>\n",
       "      <th>03:11:42.917133</th>\n",
       "      <td>2.495953</td>\n",
       "      <td>345087514</td>\n",
       "      <td>0.052192</td>\n",
       "      <td>61.536444</td>\n",
       "      <td>14.707293</td>\n",
       "    </tr>\n",
       "    <tr>\n",
       "      <th>03:11:42.917133</th>\n",
       "      <td>0.969686</td>\n",
       "      <td>345087514</td>\n",
       "      <td>2.192931</td>\n",
       "      <td>24.743832</td>\n",
       "      <td>56.978106</td>\n",
       "    </tr>\n",
       "  </tbody>\n",
       "</table>\n",
       "</div>"
      ],
      "text/plain": [
       "                                                 head_direction     ...      y_position\n",
       "animal day epoch ntrode cluster timedelta                           ...                \n",
       "JZ1    2   8     14     3       03:11:42.917133        1.043085     ...       56.830633\n",
       "                                03:11:42.917133        0.483812     ...       55.911924\n",
       "                                03:11:42.917133       -0.588197     ...       54.409397\n",
       "                                03:11:42.917133        2.495953     ...       14.707293\n",
       "                                03:11:42.917133        0.969686     ...       56.978106\n",
       "\n",
       "[5 rows x 5 columns]"
      ]
     },
     "execution_count": 122,
     "metadata": {},
     "output_type": "execute_result"
    }
   ],
   "source": [
    "data['spikes'].tail()"
   ]
  },
  {
   "cell_type": "code",
   "execution_count": null,
   "metadata": {},
   "outputs": [],
   "source": []
  }
 ],
 "metadata": {
  "kernelspec": {
   "display_name": "Python 3",
   "language": "python",
   "name": "python3"
  },
  "language_info": {
   "codemirror_mode": {
    "name": "ipython",
    "version": 3
   },
   "file_extension": ".py",
   "mimetype": "text/x-python",
   "name": "python",
   "nbconvert_exporter": "python",
   "pygments_lexer": "ipython3",
   "version": "3.6.5"
  }
 },
 "nbformat": 4,
 "nbformat_minor": 2
}
