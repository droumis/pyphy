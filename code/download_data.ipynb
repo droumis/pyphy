{
 "cells": [
  {
   "cell_type": "code",
   "execution_count": 16,
   "metadata": {},
   "outputs": [],
   "source": [
    "import tools"
   ]
  },
  {
   "cell_type": "markdown",
   "metadata": {},
   "source": [
    "# Download data files\n",
    "this relies on information in hyphy/config.json"
   ]
  },
  {
   "cell_type": "markdown",
   "metadata": {},
   "source": [
    "### Step 1, get list of available data by animal name : days list"
   ]
  },
  {
   "cell_type": "code",
   "execution_count": 13,
   "metadata": {},
   "outputs": [
    {
     "name": "stdout",
     "output_type": "stream",
     "text": [
      "{'JZ1': [1, 2]}\n"
     ]
    }
   ],
   "source": [
    "available_animal_days = tools.get_data_catalogue()\n",
    "print(available_animal_days)"
   ]
  },
  {
   "cell_type": "markdown",
   "metadata": {},
   "source": [
    "### Step 2, download the data"
   ]
  },
  {
   "cell_type": "markdown",
   "metadata": {},
   "source": [
    "#### option 1: Download all the available data to default location: /tmp/hyphy:"
   ]
  },
  {
   "cell_type": "code",
   "execution_count": 17,
   "metadata": {},
   "outputs": [
    {
     "name": "stdout",
     "output_type": "stream",
     "text": [
      "animal:JZ1 day:1 date:20161114 from:https://www.dropbox.com/s/e1n4a1gzv8pbv5c//JZ1_20161114.h5 to:/tmp/hyphy/\n",
      "animal:JZ1 day:2 date:20161115 from:https://www.dropbox.com/s/c1an971o4s7al09//JZ1_20161115.h5 to:/tmp/hyphy/\n"
     ]
    }
   ],
   "source": [
    "tools.download_data(available_animal_days)"
   ]
  },
  {
   "cell_type": "markdown",
   "metadata": {},
   "source": [
    "#### option 2: Download a selection of the data into a different data location"
   ]
  },
  {
   "cell_type": "code",
   "execution_count": 20,
   "metadata": {},
   "outputs": [
    {
     "name": "stdout",
     "output_type": "stream",
     "text": [
      "animal:JZ1 day:1 date:20161114 from:https://www.dropbox.com/s/e1n4a1gzv8pbv5c//JZ1_20161114.h5 to:~/Downloads/\n",
      "Downloading JZ1_20161114.h5 ...\n",
      "- Download in progress Done!\n"
     ]
    }
   ],
   "source": [
    "tools.download_data({'JZ1':[1]}, download_dir='~/Downloads/')"
   ]
  },
  {
   "cell_type": "code",
   "execution_count": null,
   "metadata": {},
   "outputs": [],
   "source": []
  }
 ],
 "metadata": {
  "kernelspec": {
   "display_name": "Python 3",
   "language": "python",
   "name": "python3"
  },
  "language_info": {
   "codemirror_mode": {
    "name": "ipython",
    "version": 3
   },
   "file_extension": ".py",
   "mimetype": "text/x-python",
   "name": "python",
   "nbconvert_exporter": "python",
   "pygments_lexer": "ipython3",
   "version": "3.6.5"
  }
 },
 "nbformat": 4,
 "nbformat_minor": 2
}
