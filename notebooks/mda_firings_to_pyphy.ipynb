{
 "cells": [
  {
   "cell_type": "markdown",
   "metadata": {},
   "source": [
    "# convert mountainlab output to pyphy"
   ]
  },
  {
   "cell_type": "code",
   "execution_count": 1,
   "metadata": {},
   "outputs": [
    {
     "name": "stdout",
     "output_type": "stream",
     "text": [
      "/home/droumis/Src/pyphy\n"
     ]
    }
   ],
   "source": [
    "cd .."
   ]
  },
  {
   "cell_type": "code",
   "execution_count": 2,
   "metadata": {},
   "outputs": [],
   "source": [
    "from pyphy import tools\n",
    "from pyphy import mountainsort\n",
    "import sys, os, json\n",
    "import pandas as pd\n",
    "import numpy as np\n",
    "# from collections import defaultdict\n",
    "sys.path.append('/home/droumis/Src/franklab_ms4/')\n",
    "# import ms4_franklab_proc2py as p2p\n",
    "from mountainlab_pytools import mdaio\n",
    "%load_ext autoreload\n",
    "%autoreload 2"
   ]
  },
  {
   "cell_type": "code",
   "execution_count": 5,
   "metadata": {},
   "outputs": [],
   "source": [
    "config_path = '/home/droumis/Src/pyphy/config_virga.json'\n",
    "config = tools.read_config(config_path)\n",
    "\n",
    "animal = 'JZ1'\n",
    "dates = list(config['JZ1']['day2date'].values())\n",
    "dates.sort()\n",
    "ntrodes = np.arange(1,31)"
   ]
  },
  {
   "cell_type": "code",
   "execution_count": 4,
   "metadata": {},
   "outputs": [
    {
     "ename": "SyntaxError",
     "evalue": "invalid syntax (<ipython-input-4-27f94a215bdc>, line 4)",
     "output_type": "error",
     "traceback": [
      "\u001b[0;36m  File \u001b[0;32m\"<ipython-input-4-27f94a215bdc>\"\u001b[0;36m, line \u001b[0;32m4\u001b[0m\n\u001b[0;31m    for date in dates\u001b[0m\n\u001b[0m                     ^\u001b[0m\n\u001b[0;31mSyntaxError\u001b[0m\u001b[0;31m:\u001b[0m invalid syntax\n"
     ]
    }
   ],
   "source": [
    "mda_preproc_dir = os.path.join(config['data_dir'], animal, 'preprocessing')\n",
    "ms_firings_dir = os.path.join(config['data_dir'], animal, 'mountainlab_output')\n",
    "\n",
    "for date in dates:\n",
    "# deal with one animal_day at a time bc memory usage rate is high per worker\n",
    "    out = mountainsort.get_spikes_from_mda(animal, date, ntrodes, mda_preproc_dir, ms_firings_dir, config_path)\n",
    "\n",
    "    spikes = out['spikes']\n",
    "    marks = out['marks']\n",
    "    clips = out['clips']\n",
    "    cluster_metrics = out['metrics']\n",
    "\n",
    "    tools.save_df_to_pyphy(spikes, 'spikes', config_path=config_path)\n",
    "\n",
    "    tools.save_df_to_pyphy(marks, 'marks', config_path=config_path)\n",
    "\n",
    "    tools.save_df_to_pyphy(cluster_metrics, 'cluster_metrics', config_path=config_path)"
   ]
  },
  {
   "cell_type": "markdown",
   "metadata": {},
   "source": [
    "don't save the entire day's clips because that file would be like another 25 GB  \n",
    "`tools.save_df_to_pyphy(clips, 'clips', config_path=config_path)`"
   ]
  },
  {
   "cell_type": "markdown",
   "metadata": {},
   "source": [
    "# test loading and filtering:\n",
    "1.  filter cluster metrics for single unit clusters\n",
    "2.  use the result to filter marks df for single unit marks based on index keys"
   ]
  },
  {
   "cell_type": "code",
   "execution_count": 45,
   "metadata": {},
   "outputs": [],
   "source": [
    "datafilter = {}\n",
    "datafilter['animals_days'] = {'JZ1':[1,]}\n",
    "datafilter['datatypes'] = ['cluster_metrics', 'ntrodeInfo', 'marks']\n",
    "# datafilter['multiunit'] = ['multiunit==0']"
   ]
  },
  {
   "cell_type": "code",
   "execution_count": 46,
   "metadata": {},
   "outputs": [
    {
     "name": "stdout",
     "output_type": "stream",
     "text": [
      "loading cluster_metrics\n"
     ]
    }
   ],
   "source": [
    "data = tools.load_data(datafilter, config_path=config_path)"
   ]
  },
  {
   "cell_type": "code",
   "execution_count": 47,
   "metadata": {},
   "outputs": [],
   "source": [
    "marks = data['marks']\n",
    "cluster_metrics = data['cluster_metrics']\n",
    "ntrodeInfo = data['ntrodeInfo']"
   ]
  },
  {
   "cell_type": "code",
   "execution_count": 44,
   "metadata": {},
   "outputs": [],
   "source": [
    "use_clusters = list(cluster_metrics.query('multiunit==0').index)\n",
    "use_clusters = [(str(a),int(d),int(n),int(c)) for a,d,n,c in use_clusters] #cleaning"
   ]
  },
  {
   "cell_type": "code",
   "execution_count": 74,
   "metadata": {},
   "outputs": [],
   "source": [
    "#drop the timedelta and epoch levels then do a cross section to get non multiunit clusters\n",
    "singleunit_marks = marks[marks.index.droplevel(['epoch','timedelta']).isin(use_clusters)]"
   ]
  },
  {
   "cell_type": "code",
   "execution_count": 75,
   "metadata": {},
   "outputs": [
    {
     "data": {
      "text/html": [
       "<div>\n",
       "<style scoped>\n",
       "    .dataframe tbody tr th:only-of-type {\n",
       "        vertical-align: middle;\n",
       "    }\n",
       "\n",
       "    .dataframe tbody tr th {\n",
       "        vertical-align: top;\n",
       "    }\n",
       "\n",
       "    .dataframe thead th {\n",
       "        text-align: right;\n",
       "    }\n",
       "</style>\n",
       "<table border=\"1\" class=\"dataframe\">\n",
       "  <thead>\n",
       "    <tr style=\"text-align: right;\">\n",
       "      <th></th>\n",
       "      <th></th>\n",
       "      <th></th>\n",
       "      <th></th>\n",
       "      <th></th>\n",
       "      <th></th>\n",
       "      <th>ch00</th>\n",
       "      <th>ch01</th>\n",
       "      <th>ch02</th>\n",
       "      <th>ch03</th>\n",
       "      <th>ch04</th>\n",
       "      <th>ch05</th>\n",
       "      <th>ch06</th>\n",
       "      <th>ch07</th>\n",
       "    </tr>\n",
       "    <tr>\n",
       "      <th>animal</th>\n",
       "      <th>day</th>\n",
       "      <th>epoch</th>\n",
       "      <th>timedelta</th>\n",
       "      <th>ntrode</th>\n",
       "      <th>cluster</th>\n",
       "      <th></th>\n",
       "      <th></th>\n",
       "      <th></th>\n",
       "      <th></th>\n",
       "      <th></th>\n",
       "      <th></th>\n",
       "      <th></th>\n",
       "      <th></th>\n",
       "    </tr>\n",
       "  </thead>\n",
       "  <tbody>\n",
       "    <tr>\n",
       "      <th rowspan=\"5\" valign=\"top\">JZ1</th>\n",
       "      <th rowspan=\"5\" valign=\"top\">1</th>\n",
       "      <th rowspan=\"5\" valign=\"top\">1</th>\n",
       "      <th>00:00:00.199433</th>\n",
       "      <th>2</th>\n",
       "      <th>5</th>\n",
       "      <td>0.808536</td>\n",
       "      <td>0.139140</td>\n",
       "      <td>-6.741202</td>\n",
       "      <td>0.051862</td>\n",
       "      <td>NaN</td>\n",
       "      <td>NaN</td>\n",
       "      <td>NaN</td>\n",
       "      <td>NaN</td>\n",
       "    </tr>\n",
       "    <tr>\n",
       "      <th>00:00:02.414800</th>\n",
       "      <th>2</th>\n",
       "      <th>5</th>\n",
       "      <td>1.217971</td>\n",
       "      <td>1.681590</td>\n",
       "      <td>-4.444706</td>\n",
       "      <td>0.323727</td>\n",
       "      <td>NaN</td>\n",
       "      <td>NaN</td>\n",
       "      <td>NaN</td>\n",
       "      <td>NaN</td>\n",
       "    </tr>\n",
       "    <tr>\n",
       "      <th>00:00:03.226933</th>\n",
       "      <th>2</th>\n",
       "      <th>5</th>\n",
       "      <td>-0.211903</td>\n",
       "      <td>2.876636</td>\n",
       "      <td>-4.342409</td>\n",
       "      <td>0.753980</td>\n",
       "      <td>NaN</td>\n",
       "      <td>NaN</td>\n",
       "      <td>NaN</td>\n",
       "      <td>NaN</td>\n",
       "    </tr>\n",
       "    <tr>\n",
       "      <th>00:00:03.456300</th>\n",
       "      <th>2</th>\n",
       "      <th>5</th>\n",
       "      <td>1.355214</td>\n",
       "      <td>1.476823</td>\n",
       "      <td>-3.876055</td>\n",
       "      <td>2.675195</td>\n",
       "      <td>NaN</td>\n",
       "      <td>NaN</td>\n",
       "      <td>NaN</td>\n",
       "      <td>NaN</td>\n",
       "    </tr>\n",
       "    <tr>\n",
       "      <th>00:00:03.566366</th>\n",
       "      <th>2</th>\n",
       "      <th>5</th>\n",
       "      <td>1.971174</td>\n",
       "      <td>1.117805</td>\n",
       "      <td>-5.470773</td>\n",
       "      <td>0.152911</td>\n",
       "      <td>NaN</td>\n",
       "      <td>NaN</td>\n",
       "      <td>NaN</td>\n",
       "      <td>NaN</td>\n",
       "    </tr>\n",
       "  </tbody>\n",
       "</table>\n",
       "</div>"
      ],
      "text/plain": [
       "                                                     ch00      ch01      ch02  \\\n",
       "animal day epoch timedelta       ntrode cluster                                 \n",
       "JZ1    1   1     00:00:00.199433 2      5        0.808536  0.139140 -6.741202   \n",
       "                 00:00:02.414800 2      5        1.217971  1.681590 -4.444706   \n",
       "                 00:00:03.226933 2      5       -0.211903  2.876636 -4.342409   \n",
       "                 00:00:03.456300 2      5        1.355214  1.476823 -3.876055   \n",
       "                 00:00:03.566366 2      5        1.971174  1.117805 -5.470773   \n",
       "\n",
       "                                                     ch03  ch04  ch05  ch06  \\\n",
       "animal day epoch timedelta       ntrode cluster                               \n",
       "JZ1    1   1     00:00:00.199433 2      5        0.051862   NaN   NaN   NaN   \n",
       "                 00:00:02.414800 2      5        0.323727   NaN   NaN   NaN   \n",
       "                 00:00:03.226933 2      5        0.753980   NaN   NaN   NaN   \n",
       "                 00:00:03.456300 2      5        2.675195   NaN   NaN   NaN   \n",
       "                 00:00:03.566366 2      5        0.152911   NaN   NaN   NaN   \n",
       "\n",
       "                                                 ch07  \n",
       "animal day epoch timedelta       ntrode cluster        \n",
       "JZ1    1   1     00:00:00.199433 2      5         NaN  \n",
       "                 00:00:02.414800 2      5         NaN  \n",
       "                 00:00:03.226933 2      5         NaN  \n",
       "                 00:00:03.456300 2      5         NaN  \n",
       "                 00:00:03.566366 2      5         NaN  "
      ]
     },
     "execution_count": 75,
     "metadata": {},
     "output_type": "execute_result"
    }
   ],
   "source": [
    "singleunit_marks.head()"
   ]
  },
  {
   "cell_type": "code",
   "execution_count": null,
   "metadata": {},
   "outputs": [],
   "source": []
  }
 ],
 "metadata": {
  "kernelspec": {
   "display_name": "Python 3",
   "language": "python",
   "name": "python3"
  },
  "language_info": {
   "codemirror_mode": {
    "name": "ipython",
    "version": 3
   },
   "file_extension": ".py",
   "mimetype": "text/x-python",
   "name": "python",
   "nbconvert_exporter": "python",
   "pygments_lexer": "ipython3",
   "version": "3.6.7"
  }
 },
 "nbformat": 4,
 "nbformat_minor": 2
}
