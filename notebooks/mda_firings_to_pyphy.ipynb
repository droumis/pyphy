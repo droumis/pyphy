{
 "cells": [
  {
   "cell_type": "markdown",
   "metadata": {},
   "source": [
    "# convert mountainlab output to pyphy"
   ]
  },
  {
   "cell_type": "code",
   "execution_count": 1,
   "metadata": {},
   "outputs": [
    {
     "name": "stdout",
     "output_type": "stream",
     "text": [
      "/home/droumis/Src/pyphy\n"
     ]
    }
   ],
   "source": [
    "cd .."
   ]
  },
  {
   "cell_type": "code",
   "execution_count": 12,
   "metadata": {},
   "outputs": [
    {
     "name": "stdout",
     "output_type": "stream",
     "text": [
      "The autoreload extension is already loaded. To reload it, use:\n",
      "  %reload_ext autoreload\n"
     ]
    }
   ],
   "source": [
    "from pyphy import tools\n",
    "import sys, os, json\n",
    "import pandas as pd\n",
    "import numpy as np\n",
    "# from collections import defaultdict\n",
    "sys.path.append('/home/droumis/Src/franklab_ms4/')\n",
    "# import ms4_franklab_proc2py as p2p\n",
    "from mountainlab_pytools import mdaio\n",
    "%load_ext autoreload\n",
    "%autoreload 2"
   ]
  },
  {
   "cell_type": "code",
   "execution_count": 8,
   "metadata": {},
   "outputs": [],
   "source": [
    "config_path = '/home/droumis/Src/pyphy/config_virga.json'\n",
    "config = tools.read_config(config_path)\n",
    "mda_preproc_dir = '/data2/demetris/JZ1/preprocessing/'\n",
    "ms_firings_dir = '/data2/demetris/JZ1/mountainlab_output/'\n",
    "\n",
    "animal = 'JZ1'\n",
    "dates = list(config['JZ1']['day2date'].values())\n",
    "dates.sort()\n",
    "ntrodes = np.arange(1,31)"
   ]
  },
  {
   "cell_type": "code",
   "execution_count": 10,
   "metadata": {},
   "outputs": [
    {
     "name": "stdout",
     "output_type": "stream",
     "text": [
      "animal:JZ1 date:20161114 ntrode:1\n",
      "applying cluster filter: mua : False\n",
      "keeping clusters: []\n",
      "0 firings across clusters\n",
      "animal:JZ1 date:20161114 ntrode:2\n",
      "applying cluster filter: mua : False\n",
      "keeping clusters: [5]\n",
      "1193976 firings across clusters\n",
      "animal:JZ1 date:20161114 ntrode:3\n",
      "applying cluster filter: mua : False\n",
      "keeping clusters: [45]\n",
      "2466322 firings across clusters\n"
     ]
    },
    {
     "data": {
      "text/html": [
       "<div>\n",
       "<style scoped>\n",
       "    .dataframe tbody tr th:only-of-type {\n",
       "        vertical-align: middle;\n",
       "    }\n",
       "\n",
       "    .dataframe tbody tr th {\n",
       "        vertical-align: top;\n",
       "    }\n",
       "\n",
       "    .dataframe thead th {\n",
       "        text-align: right;\n",
       "    }\n",
       "</style>\n",
       "<table border=\"1\" class=\"dataframe\">\n",
       "  <thead>\n",
       "    <tr style=\"text-align: right;\">\n",
       "      <th></th>\n",
       "      <th></th>\n",
       "      <th></th>\n",
       "      <th></th>\n",
       "      <th></th>\n",
       "      <th>sampleindex</th>\n",
       "      <th>timedelta</th>\n",
       "    </tr>\n",
       "    <tr>\n",
       "      <th>animal</th>\n",
       "      <th>day</th>\n",
       "      <th>epoch</th>\n",
       "      <th>ntrode</th>\n",
       "      <th>cluster</th>\n",
       "      <th></th>\n",
       "      <th></th>\n",
       "    </tr>\n",
       "  </thead>\n",
       "  <tbody>\n",
       "    <tr>\n",
       "      <th rowspan=\"5\" valign=\"top\">JZ1</th>\n",
       "      <th rowspan=\"5\" valign=\"top\">1</th>\n",
       "      <th rowspan=\"5\" valign=\"top\">7</th>\n",
       "      <th rowspan=\"5\" valign=\"top\">3</th>\n",
       "      <th>45</th>\n",
       "      <td>314454157</td>\n",
       "      <td>02:54:41.805233</td>\n",
       "    </tr>\n",
       "    <tr>\n",
       "      <th>45</th>\n",
       "      <td>314468487</td>\n",
       "      <td>02:54:42.282900</td>\n",
       "    </tr>\n",
       "    <tr>\n",
       "      <th>45</th>\n",
       "      <td>314480801</td>\n",
       "      <td>02:54:42.693366</td>\n",
       "    </tr>\n",
       "    <tr>\n",
       "      <th>45</th>\n",
       "      <td>314489682</td>\n",
       "      <td>02:54:42.989400</td>\n",
       "    </tr>\n",
       "    <tr>\n",
       "      <th>45</th>\n",
       "      <td>314502426</td>\n",
       "      <td>02:54:43.414200</td>\n",
       "    </tr>\n",
       "  </tbody>\n",
       "</table>\n",
       "</div>"
      ],
      "text/plain": [
       "                                 sampleindex       timedelta\n",
       "animal day epoch ntrode cluster                             \n",
       "JZ1    1   7     3      45         314454157 02:54:41.805233\n",
       "                        45         314468487 02:54:42.282900\n",
       "                        45         314480801 02:54:42.693366\n",
       "                        45         314489682 02:54:42.989400\n",
       "                        45         314502426 02:54:43.414200"
      ]
     },
     "execution_count": 10,
     "metadata": {},
     "output_type": "execute_result"
    }
   ],
   "source": [
    "spikes = tools.get_spikes_from_mda(animal, dates[0:1], ntrodes[0:3], mda_preproc_dir, ms_firings_dir, config_path)\n",
    "spikes.tail()"
   ]
  },
  {
   "cell_type": "code",
   "execution_count": 5,
   "metadata": {},
   "outputs": [
    {
     "data": {
      "text/html": [
       "<div>\n",
       "<style scoped>\n",
       "    .dataframe tbody tr th:only-of-type {\n",
       "        vertical-align: middle;\n",
       "    }\n",
       "\n",
       "    .dataframe tbody tr th {\n",
       "        vertical-align: top;\n",
       "    }\n",
       "\n",
       "    .dataframe thead th {\n",
       "        text-align: right;\n",
       "    }\n",
       "</style>\n",
       "<table border=\"1\" class=\"dataframe\">\n",
       "  <thead>\n",
       "    <tr style=\"text-align: right;\">\n",
       "      <th></th>\n",
       "      <th></th>\n",
       "      <th></th>\n",
       "      <th></th>\n",
       "      <th></th>\n",
       "      <th>sampleindex</th>\n",
       "      <th>timedelta</th>\n",
       "    </tr>\n",
       "    <tr>\n",
       "      <th>animal</th>\n",
       "      <th>day</th>\n",
       "      <th>epoch</th>\n",
       "      <th>ntrode</th>\n",
       "      <th>cluster</th>\n",
       "      <th></th>\n",
       "      <th></th>\n",
       "    </tr>\n",
       "  </thead>\n",
       "  <tbody>\n",
       "    <tr>\n",
       "      <th rowspan=\"5\" valign=\"top\">JZ1</th>\n",
       "      <th rowspan=\"5\" valign=\"top\">14</th>\n",
       "      <th rowspan=\"5\" valign=\"top\">7</th>\n",
       "      <th rowspan=\"5\" valign=\"top\">30</th>\n",
       "      <th>58</th>\n",
       "      <td>350045898</td>\n",
       "      <td>03:14:28.196600</td>\n",
       "    </tr>\n",
       "    <tr>\n",
       "      <th>58</th>\n",
       "      <td>350046531</td>\n",
       "      <td>03:14:28.217700</td>\n",
       "    </tr>\n",
       "    <tr>\n",
       "      <th>58</th>\n",
       "      <td>350047029</td>\n",
       "      <td>03:14:28.234300</td>\n",
       "    </tr>\n",
       "    <tr>\n",
       "      <th>58</th>\n",
       "      <td>350047981</td>\n",
       "      <td>03:14:28.266033</td>\n",
       "    </tr>\n",
       "    <tr>\n",
       "      <th>18</th>\n",
       "      <td>350049696</td>\n",
       "      <td>03:14:28.323200</td>\n",
       "    </tr>\n",
       "  </tbody>\n",
       "</table>\n",
       "</div>"
      ],
      "text/plain": [
       "                                 sampleindex       timedelta\n",
       "animal day epoch ntrode cluster                             \n",
       "JZ1    14  7     30     58         350045898 03:14:28.196600\n",
       "                        58         350046531 03:14:28.217700\n",
       "                        58         350047029 03:14:28.234300\n",
       "                        58         350047981 03:14:28.266033\n",
       "                        18         350049696 03:14:28.323200"
      ]
     },
     "execution_count": 5,
     "metadata": {},
     "output_type": "execute_result"
    }
   ],
   "source": [
    "spikes.tail()"
   ]
  },
  {
   "cell_type": "code",
   "execution_count": 7,
   "metadata": {},
   "outputs": [
    {
     "name": "stdout",
     "output_type": "stream",
     "text": [
      "data_key: spikes, data_cols: ['animal', 'day', 'epoch', 'ntrode', 'timedelta']\n",
      "saving spikes to /opt/DR_swapdata10/JZ1/pyphy/20161114_JZ1.h5\n",
      "saving spikes to /opt/DR_swapdata10/JZ1/pyphy/20161115_JZ1.h5\n",
      "saving spikes to /opt/DR_swapdata10/JZ1/pyphy/20161116_JZ1.h5\n",
      "saving spikes to /opt/DR_swapdata10/JZ1/pyphy/20161117_JZ1.h5\n",
      "saving spikes to /opt/DR_swapdata10/JZ1/pyphy/20161118_JZ1.h5\n",
      "saving spikes to /opt/DR_swapdata10/JZ1/pyphy/20161119_JZ1.h5\n",
      "saving spikes to /opt/DR_swapdata10/JZ1/pyphy/20161121_JZ1.h5\n",
      "saving spikes to /opt/DR_swapdata10/JZ1/pyphy/20161122_JZ1.h5\n",
      "saving spikes to /opt/DR_swapdata10/JZ1/pyphy/20161125_JZ1.h5\n",
      "saving spikes to /opt/DR_swapdata10/JZ1/pyphy/20161128_JZ1.h5\n",
      "saving spikes to /opt/DR_swapdata10/JZ1/pyphy/20161129_JZ1.h5\n",
      "saving spikes to /opt/DR_swapdata10/JZ1/pyphy/20161130_JZ1.h5\n",
      "saving spikes to /opt/DR_swapdata10/JZ1/pyphy/20161201_JZ1.h5\n",
      "saving spikes to /opt/DR_swapdata10/JZ1/pyphy/20161202_JZ1.h5\n"
     ]
    }
   ],
   "source": [
    "tools.save_df_to_pyphy(spikes, 'spikes', config_path)"
   ]
  },
  {
   "cell_type": "markdown",
   "metadata": {},
   "source": [
    "# Marks"
   ]
  },
  {
   "cell_type": "code",
   "execution_count": 13,
   "metadata": {},
   "outputs": [],
   "source": [
    "date = dates[0]\n",
    "ntrode = 10"
   ]
  },
  {
   "cell_type": "code",
   "execution_count": 19,
   "metadata": {},
   "outputs": [
    {
     "data": {
      "text/plain": [
       "'/data2/demetris/JZ1/mountainlab_output/20161114/ms4/nt10'"
      ]
     },
     "execution_count": 19,
     "metadata": {},
     "output_type": "execute_result"
    }
   ],
   "source": [
    "os.path.join(ms_firings_dir, str(date), 'ms4', f'nt{ntrode}')"
   ]
  },
  {
   "cell_type": "code",
   "execution_count": 20,
   "metadata": {},
   "outputs": [
    {
     "name": "stdout",
     "output_type": "stream",
     "text": [
      "clips.mda                 firings_raw.mda      metrics_merged_tagged.json\n",
      "filt.mda.prv              marks.mda            metrics_raw.json\n",
      "firings_burst_merged.mda  metrics_merged.json  pre.mda.prv\n"
     ]
    }
   ],
   "source": [
    "ls '/data2/demetris/JZ1/mountainlab_output/20161114/ms4/nt10'"
   ]
  },
  {
   "cell_type": "code",
   "execution_count": 21,
   "metadata": {},
   "outputs": [],
   "source": [
    "marks_path = os.path.join(ms_firings_dir, str(date), 'ms4', f'nt{ntrode}', 'marks.mda')"
   ]
  },
  {
   "cell_type": "code",
   "execution_count": 40,
   "metadata": {},
   "outputs": [],
   "source": [
    "marks = mdaio.readmda(marks_path)"
   ]
  },
  {
   "cell_type": "code",
   "execution_count": 25,
   "metadata": {},
   "outputs": [
    {
     "data": {
      "text/plain": [
       "(8, 1, 2442735)"
      ]
     },
     "execution_count": 25,
     "metadata": {},
     "output_type": "execute_result"
    }
   ],
   "source": [
    "marks.shape"
   ]
  },
  {
   "cell_type": "code",
   "execution_count": 27,
   "metadata": {},
   "outputs": [
    {
     "data": {
      "text/plain": [
       "(3, 2442735)"
      ]
     },
     "execution_count": 27,
     "metadata": {},
     "output_type": "execute_result"
    }
   ],
   "source": [
    "firings.shape"
   ]
  },
  {
   "cell_type": "code",
   "execution_count": 29,
   "metadata": {},
   "outputs": [
    {
     "data": {
      "text/plain": [
       "(10259, 2)"
      ]
     },
     "execution_count": 29,
     "metadata": {},
     "output_type": "execute_result"
    }
   ],
   "source": [
    "spikes.shape"
   ]
  },
  {
   "cell_type": "markdown",
   "metadata": {},
   "source": [
    "so it looks like the marks contains all firings, regardless of whether it was mu or not.. which is intended behavior"
   ]
  },
  {
   "cell_type": "code",
   "execution_count": 47,
   "metadata": {},
   "outputs": [
    {
     "data": {
      "text/plain": [
       "(8, 1, 2442735)"
      ]
     },
     "execution_count": 47,
     "metadata": {},
     "output_type": "execute_result"
    }
   ],
   "source": [
    "marks.shape"
   ]
  },
  {
   "cell_type": "code",
   "execution_count": 51,
   "metadata": {},
   "outputs": [],
   "source": [
    "fs = 30000\n",
    "epgap_sec = 300\n",
    "ntrode_4_offsets = 1\n",
    "mda_list = tools.get_mda_list(animal, date, ntrode_4_offsets, mda_preproc_dir)\n",
    "epoch_sample_start, total_samples = tools.get_epoch_offsets(dataset_dir=' ', opts={'mda_list':mda_list})\n",
    "# add 5 minute gaps between epochs- franklab convention\n",
    "samples_offset = np.arange(1,total_samples+1)\n",
    "epoch_sample_start_offset = np.array(epoch_sample_start)\n",
    "for ioff, soff in enumerate(epoch_sample_start[1:]):\n",
    "    epoch_sample_start_offset[ioff+1:] += epgap_sec * fs\n",
    "    samples_offset[soff+1:] += epgap_sec * fs\n"
   ]
  },
  {
   "cell_type": "code",
   "execution_count": 53,
   "metadata": {},
   "outputs": [
    {
     "data": {
      "text/plain": [
       "(340382160,)"
      ]
     },
     "execution_count": 53,
     "metadata": {},
     "output_type": "execute_result"
    }
   ],
   "source": [
    "samples_offset.shape"
   ]
  },
  {
   "cell_type": "code",
   "execution_count": 54,
   "metadata": {},
   "outputs": [],
   "source": [
    "firings_path = os.path.join(ms_firings_dir, str(date), 'ms4', f'nt{ntrode}', 'firings_burst_merged.mda')\n",
    "firings = mdaio.readmda(firings_path)"
   ]
  },
  {
   "cell_type": "code",
   "execution_count": 56,
   "metadata": {},
   "outputs": [],
   "source": [
    "firings_times = firings[1,:]"
   ]
  },
  {
   "cell_type": "code",
   "execution_count": 57,
   "metadata": {},
   "outputs": [],
   "source": [
    "firings_timedelta = pd.TimedeltaIndex(firings_times/fs, unit='s', name='time')"
   ]
  },
  {
   "cell_type": "code",
   "execution_count": 59,
   "metadata": {},
   "outputs": [
    {
     "data": {
      "text/plain": [
       "(2442735,)"
      ]
     },
     "execution_count": 59,
     "metadata": {},
     "output_type": "execute_result"
    }
   ],
   "source": [
    "firings_timedelta.shape"
   ]
  },
  {
   "cell_type": "code",
   "execution_count": 44,
   "metadata": {},
   "outputs": [],
   "source": [
    "marks_dict_df = {}\n",
    "if marks.any():\n",
    "    ch_cols = [f'ch{c:>02d}' for c in np.arange(marks.shape[0])]\n",
    "    cols = ['animal', 'day', 'epoch', 'ntrode', 'timedelta', 'sampleindex']\n",
    "    marks_dict_df[date, ntrode] = pd.DataFrame(columns=cols+ch_cols)"
   ]
  },
  {
   "cell_type": "code",
   "execution_count": null,
   "metadata": {},
   "outputs": [],
   "source": [
    "    spikes_mda_inds = firings[1,firings_bool].astype(int)\n",
    "    spikes_sampleindex = samples_offset[spikes_mda_inds]\n",
    "    spikes_timedelta = pd.TimedeltaIndex(spikes_sampleindex/fs, unit='s', name='time')\n",
    "    spikes_df[date][ntrode]['sampleindex'] = spikes_sampleindex\n",
    "    spikes_df[date][ntrode]['timedelta'] = spikes_timedelta\n",
    "    spikes_df[date][ntrode]['cluster'] = firings[2,firings_bool].astype(int)\n",
    "\n",
    "    #add animal, day, epoch cols\n",
    "    spikes_df[date][ntrode]['animal'] = animal\n",
    "    spikes_df[date][ntrode]['day'] = convert_dates_to_days(animal, date, config_path)\n",
    "    spikes_df[date][ntrode]['ntrode'] = ntrode\n",
    "    spikes_df[date][ntrode]['epoch'] = 0\n",
    "    ep_samp_start_timedelta = pd.TimedeltaIndex([ep_s/fs  for ep_s in epoch_sample_start_offset], unit='s', name='time')\n",
    "    for epn, ep_samp_td in enumerate(ep_samp_start_timedelta):\n",
    "        spikes_df[date][ntrode].loc[spikes_df[date][ntrode]['timedelta'] >= ep_samp_td, 'epoch'] = epn+1"
   ]
  },
  {
   "cell_type": "markdown",
   "metadata": {},
   "source": [
    "# ok i want to refactor.. let's commit first"
   ]
  }
 ],
 "metadata": {
  "kernelspec": {
   "display_name": "Python 3",
   "language": "python",
   "name": "python3"
  },
  "language_info": {
   "codemirror_mode": {
    "name": "ipython",
    "version": 3
   },
   "file_extension": ".py",
   "mimetype": "text/x-python",
   "name": "python",
   "nbconvert_exporter": "python",
   "pygments_lexer": "ipython3",
   "version": "3.6.7"
  }
 },
 "nbformat": 4,
 "nbformat_minor": 2
}
