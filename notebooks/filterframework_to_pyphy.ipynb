{
 "cells": [
  {
   "cell_type": "code",
   "execution_count": 1,
   "metadata": {},
   "outputs": [
    {
     "name": "stdout",
     "output_type": "stream",
     "text": [
      "/home/droumis/Src/pyphy\n"
     ]
    }
   ],
   "source": [
    "cd ~/Src/pyphy/"
   ]
  },
  {
   "cell_type": "code",
   "execution_count": 2,
   "metadata": {},
   "outputs": [],
   "source": [
    "import pyphy\n",
    "import loren_frank_data_processing as lfdp\n",
    "import pandas as pd\n",
    "import dask.dataframe as ddf\n",
    "from dask import delayed, compute\n",
    "%load_ext autoreload\n",
    "%autoreload 2"
   ]
  },
  {
   "cell_type": "code",
   "execution_count": 3,
   "metadata": {},
   "outputs": [],
   "source": [
    "animal = 'JZ2'\n",
    "# filterframework_dir = '/opt/DR_swapdata10/JZ1/filterframework/'\n",
    "filterframework_dir = '/data2/demetris/JZ1/filterframework/'\n",
    "config_path = '/home/droumis/Src/pyphy/config_virga.json'"
   ]
  },
  {
   "cell_type": "markdown",
   "metadata": {},
   "source": [
    "# load data from filterframework"
   ]
  },
  {
   "cell_type": "markdown",
   "metadata": {},
   "source": [
    "## ntrode, task info structs"
   ]
  },
  {
   "cell_type": "code",
   "execution_count": null,
   "metadata": {},
   "outputs": [],
   "source": [
    "pyphy.load_data()"
   ]
  },
  {
   "cell_type": "code",
   "execution_count": 21,
   "metadata": {},
   "outputs": [],
   "source": [
    "ntrodeInfo = pyphy.load_from_filterframework('JZ1', 'ntrodeInfo', filterframework_dir)\n",
    "taskInfo = pyphy.load_from_filterframework('JZ1', 'taskInfo', filterframework_dir)"
   ]
  },
  {
   "cell_type": "code",
   "execution_count": 18,
   "metadata": {},
   "outputs": [],
   "source": [
    "# 'linearcoord', 'task_segments', 'center_well_position' will return same df\n",
    "task_node_pos = tools.load_from_filterframework('JZ1', 'task_segments', filterframework_dir)"
   ]
  },
  {
   "cell_type": "markdown",
   "metadata": {},
   "source": [
    "## position"
   ]
  },
  {
   "cell_type": "code",
   "execution_count": 41,
   "metadata": {},
   "outputs": [],
   "source": [
    "# epoch_keys = list(taskInfo.query('day <= 9').index)\n",
    "epoch_keys = list(taskInfo.index)"
   ]
  },
  {
   "cell_type": "markdown",
   "metadata": {},
   "source": [
    "this looks single threaded.. could parallellize by epoch then concat, like lfp"
   ]
  },
  {
   "cell_type": "code",
   "execution_count": 42,
   "metadata": {},
   "outputs": [
    {
     "name": "stdout",
     "output_type": "stream",
     "text": [
      "JZ1 1 1 env: sleep\n",
      "JZ1 1 2 env: wtrack\n",
      "JZ1 1 3 env: sleep\n",
      "JZ1 1 4 env: wtrack\n",
      "JZ1 1 5 env: sleep\n",
      "JZ1 1 6 env: openfield\n",
      "JZ1 1 7 env: sleep\n",
      "JZ1 1 8 env: openfield\n",
      "JZ1 1 9 env: sleep\n",
      "JZ1 2 1 env: sleep\n",
      "JZ1 2 2 env: wtrack\n",
      "JZ1 2 3 env: sleep\n",
      "JZ1 2 4 env: wtrack\n",
      "JZ1 2 5 env: sleep\n",
      "JZ1 2 6 env: openfield\n",
      "JZ1 2 7 env: sleep\n",
      "JZ1 2 8 env: openfield\n",
      "JZ1 2 9 env: sleep\n",
      "JZ1 3 1 env: sleep\n",
      "JZ1 3 2 env: wtrack\n",
      "JZ1 3 3 env: sleep\n",
      "JZ1 3 4 env: wtrack\n",
      "JZ1 3 5 env: sleep\n",
      "JZ1 3 6 env: openfield\n",
      "JZ1 3 7 env: sleep\n",
      "JZ1 3 8 env: openfield\n",
      "JZ1 3 9 env: sleep\n",
      "JZ1 4 1 env: sleep\n",
      "JZ1 4 2 env: wtrack\n",
      "JZ1 4 3 env: sleep\n",
      "JZ1 4 4 env: wtrack\n",
      "JZ1 4 5 env: sleep\n",
      "JZ1 4 6 env: openfield\n",
      "JZ1 4 7 env: sleep\n",
      "JZ1 4 8 env: openfield\n",
      "JZ1 4 9 env: sleep\n",
      "JZ1 5 1 env: sleep\n",
      "JZ1 5 2 env: wtrack\n",
      "JZ1 5 3 env: sleep\n",
      "JZ1 5 4 env: wtrack\n",
      "JZ1 5 5 env: sleep\n",
      "JZ1 5 6 env: openfield\n",
      "JZ1 5 7 env: sleep\n",
      "JZ1 5 8 env: openfield\n",
      "JZ1 5 9 env: sleep\n",
      "JZ1 6 1 env: sleep\n",
      "JZ1 6 2 env: wtrack\n",
      "JZ1 6 3 env: sleep\n",
      "JZ1 6 4 env: wtrack\n",
      "JZ1 6 5 env: sleep\n",
      "JZ1 6 6 env: openfield\n",
      "JZ1 6 7 env: sleep\n",
      "JZ1 6 8 env: openfield\n",
      "JZ1 6 9 env: sleep\n",
      "JZ1 7 1 env: sleep\n",
      "JZ1 7 2 env: wtrack\n",
      "JZ1 7 3 env: sleep\n",
      "JZ1 7 4 env: wtrackrotated\n",
      "JZ1 7 5 env: sleep\n",
      "JZ1 7 6 env: openfield\n",
      "JZ1 7 7 env: sleep\n",
      "JZ1 7 8 env: openfield\n",
      "JZ1 7 9 env: sleep\n",
      "JZ1 8 1 env: sleep\n",
      "JZ1 8 2 env: wtrack\n",
      "JZ1 8 3 env: sleep\n",
      "JZ1 8 4 env: wtrackrotated\n",
      "JZ1 8 5 env: sleep\n",
      "JZ1 8 6 env: openfield\n",
      "JZ1 8 7 env: sleep\n",
      "JZ1 8 8 env: openfield\n",
      "JZ1 8 9 env: sleep\n",
      "JZ1 9 1 env: sleep\n",
      "JZ1 9 2 env: wtrack\n",
      "JZ1 9 3 env: sleep\n",
      "JZ1 9 4 env: wtrackrotated\n",
      "JZ1 9 5 env: sleep\n",
      "JZ1 9 6 env: openfield\n",
      "JZ1 9 7 env: sleep\n",
      "JZ1 9 8 env: openfield\n",
      "JZ1 9 9 env: sleep\n",
      "JZ1 10 1 env: sleep\n",
      "JZ1 10 2 env: sixarmtrack_right\n",
      "JZ1 10 3 env: sleep\n",
      "JZ1 10 4 env: sixarmtrack_right\n",
      "JZ1 10 5 env: sleep\n",
      "JZ1 10 6 env: openfield\n",
      "JZ1 10 7 env: sleep\n",
      "JZ1 10 8 env: openfield\n",
      "JZ1 10 9 env: sleep\n",
      "JZ1 11 1 env: sleep\n",
      "JZ1 11 2 env: sixarmtrack_right\n",
      "JZ1 11 3 env: sleep\n",
      "JZ1 11 4 env: sixarmtrack_right\n",
      "JZ1 11 5 env: sleep\n",
      "JZ1 11 6 env: openfield\n",
      "JZ1 11 7 env: sleep\n",
      "JZ1 11 8 env: openfield\n",
      "JZ1 11 9 env: sleep\n",
      "JZ1 12 1 env: sleep\n",
      "JZ1 12 2 env: sixarmtrack_right\n",
      "JZ1 12 3 env: sleep\n",
      "JZ1 12 4 env: sixarmtrack_right\n",
      "JZ1 12 5 env: sleep\n",
      "JZ1 12 6 env: openfield\n",
      "JZ1 12 7 env: sleep\n",
      "JZ1 12 8 env: openfield\n",
      "JZ1 12 9 env: sleep\n",
      "JZ1 13 1 env: sleep\n",
      "JZ1 13 2 env: sixarmtrack_right\n",
      "JZ1 13 3 env: sleep\n",
      "JZ1 13 4 env: sixarmtrack_right\n",
      "JZ1 13 5 env: sleep\n",
      "JZ1 13 6 env: openfield\n",
      "JZ1 13 7 env: sleep\n",
      "JZ1 13 8 env: openfield\n",
      "JZ1 13 9 env: sleep\n",
      "JZ1 14 1 env: sleep\n",
      "JZ1 14 2 env: sixarmtrack_right\n",
      "JZ1 14 3 env: sleep\n",
      "JZ1 14 4 env: sixarmtrack_right\n",
      "JZ1 14 5 env: sleep\n",
      "JZ1 14 6 env: openfield\n",
      "JZ1 14 7 env: sleep\n",
      "JZ1 14 8 env: openfield\n",
      "JZ1 14 9 env: sleep\n"
     ]
    }
   ],
   "source": [
    "position = tools.load_from_filterframework('JZ1', 'position', filterframework_dir, epoch_keys)"
   ]
  },
  {
   "cell_type": "markdown",
   "metadata": {},
   "source": [
    "## LFP"
   ]
  },
  {
   "cell_type": "code",
   "execution_count": 28,
   "metadata": {},
   "outputs": [],
   "source": [
    "from dask import delayed"
   ]
  },
  {
   "cell_type": "code",
   "execution_count": 39,
   "metadata": {},
   "outputs": [],
   "source": [
    "def get_lfp(df, filterframework_dir):\n",
    "    # i have to do this instead of just padded load_from_fi.. all the ntrode keys because i reformat the poch lfp dataset\n",
    "    epoch_lfp = []\n",
    "    for (animal, day, epoch), ep_df in df:\n",
    "        ntrode_keys = list(ep_df.index)\n",
    "        epoch_lfp.append(tools.load_from_filterframework(animal, 'lfp', filterframework_dir, index_keys=ntrode_keys))\n",
    "    lfp = pd.concat(epoch_lfp, axis=0)\n",
    "    return lfp"
   ]
  },
  {
   "cell_type": "code",
   "execution_count": 40,
   "metadata": {},
   "outputs": [],
   "source": [
    "def load_and_save_lfp_ff_to_pyphy(day_df, filterframework_dir, config_path):\n",
    "    lfp = get_lfp(df, filterframework_dir)\n",
    "    tools.save_df_to_pyphy(lfp, 'lfp', config_path=config_path)"
   ]
  },
  {
   "cell_type": "code",
   "execution_count": 37,
   "metadata": {},
   "outputs": [],
   "source": [
    "animal_day_tasks = []\n",
    "for (animal, day), day_df in ntrodeInfo.groupby(['animal', 'day']):\n",
    "    animal_day_tasks.append(delayed(load_and_save_lfp_ff_to_pyphy)(day_df, filterframework_dir, config_path))\n",
    "    break # first see if this works for one day before parallelizing"
   ]
  },
  {
   "cell_type": "code",
   "execution_count": null,
   "metadata": {},
   "outputs": [],
   "source": [
    "dask.compute(*animal_day_tasks)"
   ]
  },
  {
   "cell_type": "code",
   "execution_count": null,
   "metadata": {},
   "outputs": [],
   "source": [
    "# lfp = tools.load_from_filterframework(animal, 'lfp', filterframework_dir, index_keys=ntrode_keys)"
   ]
  },
  {
   "cell_type": "code",
   "execution_count": 104,
   "metadata": {},
   "outputs": [
    {
     "name": "stdout",
     "output_type": "stream",
     "text": [
      "loading lfp from ff\n",
      "[('JZ1', 1, 1, 1), ('JZ1', 1, 1, 2), ('JZ1', 1, 1, 3), ('JZ1', 1, 1, 4), ('JZ1', 1, 1, 5), ('JZ1', 1, 1, 6), ('JZ1', 1, 1, 7), ('JZ1', 1, 1, 8), ('JZ1', 1, 1, 9), ('JZ1', 1, 1, 10), ('JZ1', 1, 1, 11), ('JZ1', 1, 1, 12), ('JZ1', 1, 1, 13), ('JZ1', 1, 1, 14), ('JZ1', 1, 1, 15), ('JZ1', 1, 1, 16), ('JZ1', 1, 1, 17), ('JZ1', 1, 1, 18), ('JZ1', 1, 1, 19), ('JZ1', 1, 1, 20), ('JZ1', 1, 1, 21), ('JZ1', 1, 1, 22), ('JZ1', 1, 1, 23), ('JZ1', 1, 1, 24), ('JZ1', 1, 1, 25), ('JZ1', 1, 1, 26), ('JZ1', 1, 1, 27), ('JZ1', 1, 1, 28), ('JZ1', 1, 1, 29), ('JZ1', 1, 1, 30)]\n",
      "loading lfp from ff\n",
      "[('JZ1', 1, 2, 1), ('JZ1', 1, 2, 2), ('JZ1', 1, 2, 3), ('JZ1', 1, 2, 4), ('JZ1', 1, 2, 5), ('JZ1', 1, 2, 6), ('JZ1', 1, 2, 7), ('JZ1', 1, 2, 8), ('JZ1', 1, 2, 9), ('JZ1', 1, 2, 10), ('JZ1', 1, 2, 11), ('JZ1', 1, 2, 12), ('JZ1', 1, 2, 13), ('JZ1', 1, 2, 14), ('JZ1', 1, 2, 15), ('JZ1', 1, 2, 16), ('JZ1', 1, 2, 17), ('JZ1', 1, 2, 18), ('JZ1', 1, 2, 19), ('JZ1', 1, 2, 20), ('JZ1', 1, 2, 21), ('JZ1', 1, 2, 22), ('JZ1', 1, 2, 23), ('JZ1', 1, 2, 24), ('JZ1', 1, 2, 25), ('JZ1', 1, 2, 26), ('JZ1', 1, 2, 27), ('JZ1', 1, 2, 28), ('JZ1', 1, 2, 29), ('JZ1', 1, 2, 30)]\n",
      "loading lfp from ff\n",
      "[('JZ1', 1, 3, 1), ('JZ1', 1, 3, 2), ('JZ1', 1, 3, 3), ('JZ1', 1, 3, 4), ('JZ1', 1, 3, 5), ('JZ1', 1, 3, 6), ('JZ1', 1, 3, 7), ('JZ1', 1, 3, 8), ('JZ1', 1, 3, 9), ('JZ1', 1, 3, 10), ('JZ1', 1, 3, 11), ('JZ1', 1, 3, 12), ('JZ1', 1, 3, 13), ('JZ1', 1, 3, 14), ('JZ1', 1, 3, 15), ('JZ1', 1, 3, 16), ('JZ1', 1, 3, 17), ('JZ1', 1, 3, 18), ('JZ1', 1, 3, 19), ('JZ1', 1, 3, 20), ('JZ1', 1, 3, 21), ('JZ1', 1, 3, 22), ('JZ1', 1, 3, 23), ('JZ1', 1, 3, 24), ('JZ1', 1, 3, 25), ('JZ1', 1, 3, 26), ('JZ1', 1, 3, 27), ('JZ1', 1, 3, 28), ('JZ1', 1, 3, 29), ('JZ1', 1, 3, 30)]\n",
      "loading lfp from ff\n",
      "[('JZ1', 1, 4, 1), ('JZ1', 1, 4, 2), ('JZ1', 1, 4, 3), ('JZ1', 1, 4, 4), ('JZ1', 1, 4, 5), ('JZ1', 1, 4, 6), ('JZ1', 1, 4, 7), ('JZ1', 1, 4, 8), ('JZ1', 1, 4, 9), ('JZ1', 1, 4, 10), ('JZ1', 1, 4, 11), ('JZ1', 1, 4, 12), ('JZ1', 1, 4, 13), ('JZ1', 1, 4, 14), ('JZ1', 1, 4, 15), ('JZ1', 1, 4, 16), ('JZ1', 1, 4, 17), ('JZ1', 1, 4, 18), ('JZ1', 1, 4, 19), ('JZ1', 1, 4, 20), ('JZ1', 1, 4, 21), ('JZ1', 1, 4, 22), ('JZ1', 1, 4, 23), ('JZ1', 1, 4, 24), ('JZ1', 1, 4, 25), ('JZ1', 1, 4, 26), ('JZ1', 1, 4, 27), ('JZ1', 1, 4, 28), ('JZ1', 1, 4, 29), ('JZ1', 1, 4, 30)]\n",
      "loading lfp from ff\n",
      "[('JZ1', 1, 5, 1), ('JZ1', 1, 5, 2), ('JZ1', 1, 5, 3), ('JZ1', 1, 5, 4), ('JZ1', 1, 5, 5), ('JZ1', 1, 5, 6), ('JZ1', 1, 5, 7), ('JZ1', 1, 5, 8), ('JZ1', 1, 5, 9), ('JZ1', 1, 5, 10), ('JZ1', 1, 5, 11), ('JZ1', 1, 5, 12), ('JZ1', 1, 5, 13), ('JZ1', 1, 5, 14), ('JZ1', 1, 5, 15), ('JZ1', 1, 5, 16), ('JZ1', 1, 5, 17), ('JZ1', 1, 5, 18), ('JZ1', 1, 5, 19), ('JZ1', 1, 5, 20), ('JZ1', 1, 5, 21), ('JZ1', 1, 5, 22), ('JZ1', 1, 5, 23), ('JZ1', 1, 5, 24), ('JZ1', 1, 5, 25), ('JZ1', 1, 5, 26), ('JZ1', 1, 5, 27), ('JZ1', 1, 5, 28), ('JZ1', 1, 5, 29), ('JZ1', 1, 5, 30)]\n",
      "loading lfp from ff\n",
      "[('JZ1', 1, 6, 1), ('JZ1', 1, 6, 2), ('JZ1', 1, 6, 3), ('JZ1', 1, 6, 4), ('JZ1', 1, 6, 5), ('JZ1', 1, 6, 6), ('JZ1', 1, 6, 7), ('JZ1', 1, 6, 8), ('JZ1', 1, 6, 9), ('JZ1', 1, 6, 10), ('JZ1', 1, 6, 11), ('JZ1', 1, 6, 12), ('JZ1', 1, 6, 13), ('JZ1', 1, 6, 14), ('JZ1', 1, 6, 15), ('JZ1', 1, 6, 16), ('JZ1', 1, 6, 17), ('JZ1', 1, 6, 18), ('JZ1', 1, 6, 19), ('JZ1', 1, 6, 20), ('JZ1', 1, 6, 21), ('JZ1', 1, 6, 22), ('JZ1', 1, 6, 23), ('JZ1', 1, 6, 24), ('JZ1', 1, 6, 25), ('JZ1', 1, 6, 26), ('JZ1', 1, 6, 27), ('JZ1', 1, 6, 28), ('JZ1', 1, 6, 29), ('JZ1', 1, 6, 30)]\n",
      "loading lfp from ff\n",
      "[('JZ1', 1, 7, 1), ('JZ1', 1, 7, 2), ('JZ1', 1, 7, 3), ('JZ1', 1, 7, 4), ('JZ1', 1, 7, 5), ('JZ1', 1, 7, 6), ('JZ1', 1, 7, 7), ('JZ1', 1, 7, 8), ('JZ1', 1, 7, 9), ('JZ1', 1, 7, 10), ('JZ1', 1, 7, 11), ('JZ1', 1, 7, 12), ('JZ1', 1, 7, 13), ('JZ1', 1, 7, 14), ('JZ1', 1, 7, 15), ('JZ1', 1, 7, 16), ('JZ1', 1, 7, 17), ('JZ1', 1, 7, 18), ('JZ1', 1, 7, 19), ('JZ1', 1, 7, 20), ('JZ1', 1, 7, 21), ('JZ1', 1, 7, 22), ('JZ1', 1, 7, 23), ('JZ1', 1, 7, 24), ('JZ1', 1, 7, 25), ('JZ1', 1, 7, 26), ('JZ1', 1, 7, 27), ('JZ1', 1, 7, 28), ('JZ1', 1, 7, 29), ('JZ1', 1, 7, 30)]\n",
      "loading lfp from ff\n",
      "[('JZ1', 1, 8, 1), ('JZ1', 1, 8, 2), ('JZ1', 1, 8, 3), ('JZ1', 1, 8, 4), ('JZ1', 1, 8, 5), ('JZ1', 1, 8, 6), ('JZ1', 1, 8, 7), ('JZ1', 1, 8, 8), ('JZ1', 1, 8, 9), ('JZ1', 1, 8, 10), ('JZ1', 1, 8, 11), ('JZ1', 1, 8, 12), ('JZ1', 1, 8, 13), ('JZ1', 1, 8, 14), ('JZ1', 1, 8, 15), ('JZ1', 1, 8, 16), ('JZ1', 1, 8, 17), ('JZ1', 1, 8, 18), ('JZ1', 1, 8, 19), ('JZ1', 1, 8, 20), ('JZ1', 1, 8, 21), ('JZ1', 1, 8, 22), ('JZ1', 1, 8, 23), ('JZ1', 1, 8, 24), ('JZ1', 1, 8, 25), ('JZ1', 1, 8, 26), ('JZ1', 1, 8, 27), ('JZ1', 1, 8, 28), ('JZ1', 1, 8, 29), ('JZ1', 1, 8, 30)]\n",
      "loading lfp from ff\n",
      "[('JZ1', 1, 9, 1), ('JZ1', 1, 9, 2), ('JZ1', 1, 9, 3), ('JZ1', 1, 9, 4), ('JZ1', 1, 9, 5), ('JZ1', 1, 9, 6), ('JZ1', 1, 9, 7), ('JZ1', 1, 9, 8), ('JZ1', 1, 9, 9), ('JZ1', 1, 9, 10), ('JZ1', 1, 9, 11), ('JZ1', 1, 9, 12), ('JZ1', 1, 9, 13), ('JZ1', 1, 9, 14), ('JZ1', 1, 9, 15), ('JZ1', 1, 9, 16), ('JZ1', 1, 9, 17), ('JZ1', 1, 9, 18), ('JZ1', 1, 9, 19), ('JZ1', 1, 9, 20), ('JZ1', 1, 9, 21), ('JZ1', 1, 9, 22), ('JZ1', 1, 9, 23), ('JZ1', 1, 9, 24), ('JZ1', 1, 9, 25), ('JZ1', 1, 9, 26), ('JZ1', 1, 9, 27), ('JZ1', 1, 9, 28), ('JZ1', 1, 9, 29), ('JZ1', 1, 9, 30)]\n",
      "CPU times: user 38min 44s, sys: 31min, total: 1h 9min 44s\n",
      "Wall time: 24min 16s\n"
     ]
    }
   ],
   "source": [
    "# %%time\n",
    "# day = 1\n",
    "# day_nt_df = ntrodeInfo.query('day==@day')\n",
    "# epochs = day_nt_df.reset_index().epoch.unique()\n",
    "# epochs.sort()\n",
    "# epoch_lfp = []\n",
    "# for epoch in epochs:\n",
    "#     ntrode_keys = list(day_nt_df.query('epoch==@epoch').index)\n",
    "#     epoch_lfp.append(tools.load_from_filterframework(animal, 'lfp', filterframework_dir, index_keys=ntrode_keys))"
   ]
  },
  {
   "cell_type": "code",
   "execution_count": 105,
   "metadata": {},
   "outputs": [],
   "source": [
    "# lfp = pd.concat(epoch_lfp, axis=0)"
   ]
  },
  {
   "cell_type": "markdown",
   "metadata": {},
   "source": [
    "## DIO\n",
    "TODO"
   ]
  },
  {
   "cell_type": "markdown",
   "metadata": {},
   "source": [
    "# Save to pyphy"
   ]
  },
  {
   "cell_type": "code",
   "execution_count": 28,
   "metadata": {},
   "outputs": [],
   "source": [
    "tools.save_df_to_pyphy(ntrodeInfo, 'ntrodeInfo', config_path)\n",
    "\n",
    "tools.save_df_to_pyphy(taskInfo, 'taskInfo', config_path)"
   ]
  },
  {
   "cell_type": "code",
   "execution_count": 57,
   "metadata": {},
   "outputs": [
    {
     "name": "stdout",
     "output_type": "stream",
     "text": [
      "data_key: position, data_cols: ['animal', 'day', 'epoch', 'timedelta']\n",
      "saving position to /data2/demetris/JZ1/pyphy/20161114_JZ1.h5\n",
      "saving position to /data2/demetris/JZ1/pyphy/20161115_JZ1.h5\n",
      "saving position to /data2/demetris/JZ1/pyphy/20161116_JZ1.h5\n",
      "saving position to /data2/demetris/JZ1/pyphy/20161117_JZ1.h5\n",
      "saving position to /data2/demetris/JZ1/pyphy/20161118_JZ1.h5\n",
      "saving position to /data2/demetris/JZ1/pyphy/20161119_JZ1.h5\n",
      "saving position to /data2/demetris/JZ1/pyphy/20161121_JZ1.h5\n",
      "saving position to /data2/demetris/JZ1/pyphy/20161122_JZ1.h5\n",
      "saving position to /data2/demetris/JZ1/pyphy/20161125_JZ1.h5\n",
      "saving position to /data2/demetris/JZ1/pyphy/20161128_JZ1.h5\n",
      "saving position to /data2/demetris/JZ1/pyphy/20161129_JZ1.h5\n",
      "saving position to /data2/demetris/JZ1/pyphy/20161130_JZ1.h5\n",
      "saving position to /data2/demetris/JZ1/pyphy/20161201_JZ1.h5\n",
      "saving position to /data2/demetris/JZ1/pyphy/20161202_JZ1.h5\n"
     ]
    }
   ],
   "source": [
    "tools.save_df_to_pyphy(position, 'position', config_path)"
   ]
  },
  {
   "cell_type": "code",
   "execution_count": 112,
   "metadata": {},
   "outputs": [
    {
     "name": "stdout",
     "output_type": "stream",
     "text": [
      "data_key: lfp, data_cols: ['animal', 'day', 'epoch', 'timedelta']\n",
      "saving lfp to /data2/demetris/JZ1/pyphy/20161114_JZ1.h5\n",
      "CPU times: user 5min 24s, sys: 7min 38s, total: 13min 3s\n",
      "Wall time: 2min 15s\n"
     ]
    }
   ],
   "source": [
    "%%time\n",
    "tools.save_df_to_pyphy(lfp, 'lfp', config_path)"
   ]
  }
 ],
 "metadata": {
  "kernelspec": {
   "display_name": "Python 3",
   "language": "python",
   "name": "python3"
  },
  "language_info": {
   "codemirror_mode": {
    "name": "ipython",
    "version": 3
   },
   "file_extension": ".py",
   "mimetype": "text/x-python",
   "name": "python",
   "nbconvert_exporter": "python",
   "pygments_lexer": "ipython3",
   "version": "3.6.7"
  }
 },
 "nbformat": 4,
 "nbformat_minor": 2
}
