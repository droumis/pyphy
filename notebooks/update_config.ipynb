{
 "cells": [
  {
   "cell_type": "markdown",
   "metadata": {},
   "source": [
    "# Examples of updating info in config.json\n",
    "\n",
    "# Example:  update the config.json 'day2dates' field with the data files i have locally from the entire experiment"
   ]
  },
  {
   "cell_type": "code",
   "execution_count": 3,
   "metadata": {},
   "outputs": [],
   "source": [
    "import tools"
   ]
  },
  {
   "cell_type": "code",
   "execution_count": 2,
   "metadata": {},
   "outputs": [],
   "source": [
    "config_path = '/home/droumis/Src/pyphy/config.json'\n",
    "\n",
    "config = tools.read_config(config_path)"
   ]
  },
  {
   "cell_type": "code",
   "execution_count": 28,
   "metadata": {},
   "outputs": [
    {
     "name": "stdout",
     "output_type": "stream",
     "text": [
      "{'1': '20161114', '2': '20161115', '3': '20161116', '4': '20161117', '5': '20161118', '6': '20161119', '7': '20161121', '8': '20161122', '9': '20161125', '10': '20161128', '11': '20161129', '12': '20161130', '13': '20161201', '14': '20161202'}\n"
     ]
    }
   ],
   "source": [
    "import glob\n",
    "local_data_paths = glob.glob('/opt/DR_swapdata10/JZ1/pyphy/*.h5')\n",
    "dates = [dp.split('/')[-1].split('_')[0] for dp in local_data_paths]\n",
    "dates.sort()\n",
    "days2dates = {}\n",
    "for dayp1, dt in enumerate(dates):\n",
    "    days2dates[str(dayp1+1)] = str(dt)\n",
    "print(days2dates)"
   ]
  },
  {
   "cell_type": "code",
   "execution_count": 29,
   "metadata": {},
   "outputs": [],
   "source": [
    "config['JZ1']['day2date'] = days2dates "
   ]
  },
  {
   "cell_type": "code",
   "execution_count": 30,
   "metadata": {},
   "outputs": [],
   "source": [
    "tools.write_config(config, config_path)"
   ]
  },
  {
   "cell_type": "markdown",
   "metadata": {},
   "source": [
    "# Example: adding {'date':{'day':day}} to config"
   ]
  },
  {
   "cell_type": "code",
   "execution_count": null,
   "metadata": {},
   "outputs": [],
   "source": [
    "import tools"
   ]
  },
  {
   "cell_type": "code",
   "execution_count": null,
   "metadata": {},
   "outputs": [],
   "source": [
    "config_path = '/home/droumis/Src/pyphy/config.json'\n",
    "\n",
    "config = tools.read_config(config_path)"
   ]
  },
  {
   "cell_type": "code",
   "execution_count": 4,
   "metadata": {},
   "outputs": [],
   "source": [
    "for day in config['JZ1']['day2date']:\n",
    "    date = config['JZ1']['day2date'][day]\n",
    "    if date in config['JZ1']:\n",
    "        config['JZ1'][date]['day'] = day\n",
    "    else:\n",
    "        config['JZ1'][date] = {}\n",
    "        config['JZ1'][date]['day'] = day"
   ]
  },
  {
   "cell_type": "code",
   "execution_count": 7,
   "metadata": {},
   "outputs": [],
   "source": [
    "tools.write_config(config, config_path)"
   ]
  },
  {
   "cell_type": "code",
   "execution_count": 8,
   "metadata": {},
   "outputs": [
    {
     "data": {
      "text/plain": [
       "{'JZ1': {'20161114': {'day': '1',\n",
       "   'dropbox': 'https://www.dropbox.com/s/e1n4a1gzv8pbv5c/'},\n",
       "  '20161115': {'day': '2',\n",
       "   'dropbox': 'https://www.dropbox.com/s/c1an971o4s7al09/'},\n",
       "  '20161116': {'day': '3'},\n",
       "  '20161117': {'day': '4'},\n",
       "  '20161118': {'day': '5'},\n",
       "  '20161119': {'day': '6'},\n",
       "  '20161121': {'day': '7'},\n",
       "  '20161122': {'day': '8'},\n",
       "  '20161125': {'day': '9'},\n",
       "  '20161128': {'day': '10'},\n",
       "  '20161129': {'day': '11'},\n",
       "  '20161130': {'day': '12'},\n",
       "  '20161201': {'day': '13'},\n",
       "  '20161202': {'day': '14'},\n",
       "  'day2date': {'1': '20161114',\n",
       "   '10': '20161128',\n",
       "   '11': '20161129',\n",
       "   '12': '20161130',\n",
       "   '13': '20161201',\n",
       "   '14': '20161202',\n",
       "   '2': '20161115',\n",
       "   '3': '20161116',\n",
       "   '4': '20161117',\n",
       "   '5': '20161118',\n",
       "   '6': '20161119',\n",
       "   '7': '20161121',\n",
       "   '8': '20161122',\n",
       "   '9': '20161125'}},\n",
       " 'animals': ['JZ1'],\n",
       " 'data_dir': '/opt/DR_swapdata10/'}"
      ]
     },
     "execution_count": 8,
     "metadata": {},
     "output_type": "execute_result"
    }
   ],
   "source": [
    "tools.read_config(config_path)"
   ]
  },
  {
   "cell_type": "markdown",
   "metadata": {},
   "source": [
    "# Example: updating config using preprocessing path"
   ]
  },
  {
   "cell_type": "code",
   "execution_count": 7,
   "metadata": {},
   "outputs": [],
   "source": [
    "import tools"
   ]
  },
  {
   "cell_type": "code",
   "execution_count": 4,
   "metadata": {},
   "outputs": [],
   "source": [
    "config_path = '/home/droumis/Src/pyphy/config.json'"
   ]
  },
  {
   "cell_type": "code",
   "execution_count": 5,
   "metadata": {},
   "outputs": [
    {
     "name": "stdout",
     "output_type": "stream",
     "text": [
      "updating config for D10\n",
      "updating config for D12\n",
      "updating config for D13\n",
      "updating config for JZ2\n",
      "updating config for JZ3\n",
      "updating config for JZ4\n"
     ]
    }
   ],
   "source": [
    "tools.update_animal_config('D10', '/opt/data20/D10/preprocessing', config_path)\n",
    "tools.update_animal_config('D12', '/opt/data20/D12/preprocessing', config_path)\n",
    "tools.update_animal_config('D13', '/opt/data20/D13/preprocessing', config_path)\n",
    "tools.update_animal_config('JZ2', '/opt/data20/JZ2/preprocessing', config_path)\n",
    "tools.update_animal_config('JZ3', '/opt/data20/JZ3/preprocessing', config_path)\n",
    "tools.update_animal_config('JZ4', '/opt/data20/JZ4/preprocessing', config_path)"
   ]
  },
  {
   "cell_type": "code",
   "execution_count": 6,
   "metadata": {},
   "outputs": [
    {
     "data": {
      "text/plain": [
       "{'D10': {'20160508': {'day': '1'},\n",
       "  '20160510': {'day': '2'},\n",
       "  '20160511': {'day': '3'},\n",
       "  '20160512': {'day': '4'},\n",
       "  '20160513': {'day': '5'},\n",
       "  '20160514': {'day': '6'},\n",
       "  '20160515': {'day': '7'},\n",
       "  '20160516': {'day': '8'},\n",
       "  '20160518': {'day': '9'},\n",
       "  '20160519': {'day': '10'},\n",
       "  '20160520': {'day': '11'},\n",
       "  '20160521': {'day': '12'},\n",
       "  '20160524': {'day': '13'},\n",
       "  '20160525': {'day': '14'},\n",
       "  '20160526': {'day': '15'},\n",
       "  '20160527': {'day': '16'},\n",
       "  '20160529': {'day': '17'},\n",
       "  '20160530': {'day': '18'},\n",
       "  '20160531': {'day': '19'},\n",
       "  'day2date': {'1': '20160508',\n",
       "   '10': '20160519',\n",
       "   '11': '20160520',\n",
       "   '12': '20160521',\n",
       "   '13': '20160524',\n",
       "   '14': '20160525',\n",
       "   '15': '20160526',\n",
       "   '16': '20160527',\n",
       "   '17': '20160529',\n",
       "   '18': '20160530',\n",
       "   '19': '20160531',\n",
       "   '2': '20160510',\n",
       "   '3': '20160511',\n",
       "   '4': '20160512',\n",
       "   '5': '20160513',\n",
       "   '6': '20160514',\n",
       "   '7': '20160515',\n",
       "   '8': '20160516',\n",
       "   '9': '20160518'}},\n",
       " 'D12': {'20160607': {'day': '1'},\n",
       "  '20160610': {'day': '2'},\n",
       "  '20160611': {'day': '3'},\n",
       "  '20160612': {'day': '4'},\n",
       "  '20160613': {'day': '5'},\n",
       "  '20160614': {'day': '6'},\n",
       "  '20160615': {'day': '7'},\n",
       "  'day2date': {'1': '20160607',\n",
       "   '2': '20160610',\n",
       "   '3': '20160611',\n",
       "   '4': '20160612',\n",
       "   '5': '20160613',\n",
       "   '6': '20160614',\n",
       "   '7': '20160615'}},\n",
       " 'D13': {'20161006': {'day': '1'},\n",
       "  '20161007': {'day': '2'},\n",
       "  '20161008': {'day': '3'},\n",
       "  '20161009': {'day': '4'},\n",
       "  '20161010': {'day': '5'},\n",
       "  '20161011': {'day': '6'},\n",
       "  '20161012': {'day': '7'},\n",
       "  '20161013': {'day': '8'},\n",
       "  '20161015': {'day': '9'},\n",
       "  '20161016': {'day': '10'},\n",
       "  '20161019': {'day': '11'},\n",
       "  '20161020': {'day': '12'},\n",
       "  '20161021': {'day': '13'},\n",
       "  '20161022': {'day': '14'},\n",
       "  '20161024': {'day': '15'},\n",
       "  'day2date': {'1': '20161006',\n",
       "   '10': '20161016',\n",
       "   '11': '20161019',\n",
       "   '12': '20161020',\n",
       "   '13': '20161021',\n",
       "   '14': '20161022',\n",
       "   '15': '20161024',\n",
       "   '2': '20161007',\n",
       "   '3': '20161008',\n",
       "   '4': '20161009',\n",
       "   '5': '20161010',\n",
       "   '6': '20161011',\n",
       "   '7': '20161012',\n",
       "   '8': '20161013',\n",
       "   '9': '20161015'}},\n",
       " 'JZ1': {'20161114': {'day': '1',\n",
       "   'dropbox': 'https://www.dropbox.com/s/e1n4a1gzv8pbv5c/'},\n",
       "  '20161115': {'day': '2',\n",
       "   'dropbox': 'https://www.dropbox.com/s/c1an971o4s7al09/'},\n",
       "  '20161116': {'day': '3'},\n",
       "  '20161117': {'day': '4'},\n",
       "  '20161118': {'day': '5'},\n",
       "  '20161119': {'day': '6'},\n",
       "  '20161121': {'day': '7'},\n",
       "  '20161122': {'day': '8'},\n",
       "  '20161125': {'day': '9'},\n",
       "  '20161128': {'day': '10'},\n",
       "  '20161129': {'day': '11'},\n",
       "  '20161130': {'day': '12'},\n",
       "  '20161201': {'day': '13'},\n",
       "  '20161202': {'day': '14'},\n",
       "  'day2date': {'1': '20161114',\n",
       "   '10': '20161128',\n",
       "   '11': '20161129',\n",
       "   '12': '20161130',\n",
       "   '13': '20161201',\n",
       "   '14': '20161202',\n",
       "   '2': '20161115',\n",
       "   '3': '20161116',\n",
       "   '4': '20161117',\n",
       "   '5': '20161118',\n",
       "   '6': '20161119',\n",
       "   '7': '20161121',\n",
       "   '8': '20161122',\n",
       "   '9': '20161125'}},\n",
       " 'JZ2': {'20161217': {'day': '1'},\n",
       "  '20161219': {'day': '2'},\n",
       "  '20161220': {'day': '3'},\n",
       "  '20161221': {'day': '4'},\n",
       "  '20161222': {'day': '5'},\n",
       "  'day2date': {'1': '20161217',\n",
       "   '2': '20161219',\n",
       "   '3': '20161220',\n",
       "   '4': '20161221',\n",
       "   '5': '20161222'}},\n",
       " 'JZ3': {'20170206': {'day': '1'},\n",
       "  '20170207': {'day': '2'},\n",
       "  '20170208': {'day': '3'},\n",
       "  '20170209': {'day': '4'},\n",
       "  '20170210': {'day': '5'},\n",
       "  '20170211': {'day': '6'},\n",
       "  '20170212': {'day': '7'},\n",
       "  '20170213': {'day': '8'},\n",
       "  '20170214': {'day': '9'},\n",
       "  '20170215': {'day': '10'},\n",
       "  'day2date': {'1': '20170206',\n",
       "   '10': '20170215',\n",
       "   '2': '20170207',\n",
       "   '3': '20170208',\n",
       "   '4': '20170209',\n",
       "   '5': '20170210',\n",
       "   '6': '20170211',\n",
       "   '7': '20170212',\n",
       "   '8': '20170213',\n",
       "   '9': '20170214'}},\n",
       " 'JZ4': {'20170422': {'day': '1'},\n",
       "  '20170423': {'day': '2'},\n",
       "  '20170424': {'day': '3'},\n",
       "  '20170425': {'day': '4'},\n",
       "  '20170426': {'day': '5'},\n",
       "  '20170428': {'day': '6'},\n",
       "  '20170429': {'day': '7'},\n",
       "  '20170501': {'day': '8'},\n",
       "  '20170502': {'day': '9'},\n",
       "  '20170503': {'day': '10'},\n",
       "  '20170504': {'day': '11'},\n",
       "  '20170505': {'day': '12'},\n",
       "  '20170506': {'day': '13'},\n",
       "  '20170507': {'day': '14'},\n",
       "  'day2date': {'1': '20170422',\n",
       "   '10': '20170503',\n",
       "   '11': '20170504',\n",
       "   '12': '20170505',\n",
       "   '13': '20170506',\n",
       "   '14': '20170507',\n",
       "   '2': '20170423',\n",
       "   '3': '20170424',\n",
       "   '4': '20170425',\n",
       "   '5': '20170426',\n",
       "   '6': '20170428',\n",
       "   '7': '20170429',\n",
       "   '8': '20170501',\n",
       "   '9': '20170502'}},\n",
       " 'animals': ['JZ1', 'D10', 'D12', 'D13', 'JZ2', 'JZ3', 'JZ4'],\n",
       " 'data_dir': '/opt/DR_swapdata10/'}"
      ]
     },
     "execution_count": 6,
     "metadata": {},
     "output_type": "execute_result"
    }
   ],
   "source": [
    "tools.read_config(config_path)"
   ]
  },
  {
   "cell_type": "code",
   "execution_count": null,
   "metadata": {},
   "outputs": [],
   "source": []
  }
 ],
 "metadata": {
  "kernelspec": {
   "display_name": "Python 3",
   "language": "python",
   "name": "python3"
  },
  "language_info": {
   "codemirror_mode": {
    "name": "ipython",
    "version": 3
   },
   "file_extension": ".py",
   "mimetype": "text/x-python",
   "name": "python",
   "nbconvert_exporter": "python",
   "pygments_lexer": "ipython3",
   "version": "3.6.7"
  }
 },
 "nbformat": 4,
 "nbformat_minor": 2
}
